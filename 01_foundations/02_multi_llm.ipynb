{
 "cells": [
  {
   "cell_type": "markdown",
   "id": "93fa3f64",
   "metadata": {},
   "source": [
    "#### Agentic Systems are of 2 types\n",
    "\n",
    "* **Workflows** : are systems where LLM's and tools are orchastrated through predefined code paths\n",
    "* **Agents** : are systems where LLM's dynamically direct their own processes and tool usage,maintaining control over how they accomplish tasks."
   ]
  },
  {
   "cell_type": "markdown",
   "id": "d17f61f6",
   "metadata": {},
   "source": [
    "#### 5 Workflow design patterns:\n",
    "\n",
    "    1) **Prompt Chaining** : Decompose into fixed sub-tasks\n",
    "        IN-->LLM1-->Gate(code)-->LLM2-->LLM3-->OUT\n",
    "    2) **Routing** : Direct an input into a specialized sub task, ensuring separation of concerns\n",
    "        IN-->LLM router-->parallel(LLM1+LLM2+LLM3...)-->OUT\n",
    "    3) **Parallelization** : Breaking down tasks and running multiple subtasks concurrently, same like above but here a logic send to parallel   flows,unlike an LLM earlier\n",
    "        IN-->Coordinator(code)-->parallel(LLM1+LLM2+LLM3...)-->Aggregator(code)-->OUT\n",
    "    4) **Orchestrator-worker** : Complex tasks are broken down dynamically and combined\n",
    "        IN-->Orchestrator(LLM)-->parallel(LLM1+LLM2+LLM3...)-->Synthesizer(LLM)-->OUT\n",
    "    5) **Evaluator-optimizer** : LLM output is validated by another LLM\n",
    "        IN-->LLM generation<==[solution/rejection]==>LLM evaluator==[accepted]==>OUT\n",
    "\n",
    "\n",
    "#### By contrast, **Agents**\n",
    "    1) Open-ended\n",
    "    2) Feedback loops\n",
    "    3) No fixed paths\n",
    "\n",
    "    Human-->LLM call<==[Action/Feedback]==>Environment\n",
    "                ||\n",
    "               Stop\n"
   ]
  },
  {
   "cell_type": "code",
   "execution_count": 1,
   "id": "535746d6",
   "metadata": {},
   "outputs": [],
   "source": [
    "import os\n",
    "import json\n",
    "from dotenv import load_dotenv\n",
    "from openai import OpenAI\n",
    "from IPython.display import Markdown, display"
   ]
  },
  {
   "cell_type": "code",
   "execution_count": 2,
   "id": "8d9ea45a",
   "metadata": {},
   "outputs": [
    {
     "data": {
      "text/plain": [
       "True"
      ]
     },
     "execution_count": 2,
     "metadata": {},
     "output_type": "execute_result"
    }
   ],
   "source": [
    "load_dotenv(override=True)"
   ]
  },
  {
   "cell_type": "code",
   "execution_count": 3,
   "id": "49c1b8e1",
   "metadata": {},
   "outputs": [
    {
     "name": "stdout",
     "output_type": "stream",
     "text": [
      "OpenAI API key is set: sk....\n",
      "Google API key is set: AI....\n",
      "Groq API key is set: gs....\n"
     ]
    }
   ],
   "source": [
    "openai_api_key = os.getenv(\"OPENAI_API_KEY\")\n",
    "google_api_key = os.getenv(\"GOOGLE_API_KEY\")\n",
    "groq_api_key = os.getenv(\"GROQ_API_KEY\")\n",
    "\n",
    "if openai_api_key:\n",
    "    print(f\"OpenAI API key is set: {openai_api_key[:2]}....\")\n",
    "else:\n",
    "    print(\"OpenAI API key is not set\")\n",
    "\n",
    "if google_api_key:\n",
    "    print(f\"Google API key is set: {google_api_key[:2]}....\")\n",
    "else:\n",
    "    print(\"Google API key is not set\")\n",
    "\n",
    "if groq_api_key:\n",
    "    print(f\"Groq API key is set: {groq_api_key[:2]}....\")\n",
    "else:\n",
    "    print(\"Groq API key is not set\")"
   ]
  },
  {
   "cell_type": "code",
   "execution_count": 4,
   "id": "c2c50638",
   "metadata": {},
   "outputs": [
    {
     "name": "stdout",
     "output_type": "stream",
     "text": [
      "Groq : The answer to 2 + 2 is 4.\n",
      "Google : 2 + 2 = 4\n",
      "\n",
      "OpenAI : 2 + 2 equals 4.\n"
     ]
    }
   ],
   "source": [
    "#test all the keys\n",
    "messages = [{\"role\": \"user\", \"content\": \"What is 2 + 2?\"}]\n",
    "groq_client = OpenAI(api_key=groq_api_key, base_url=\"https://api.groq.com/openai/v1\")\n",
    "gemini_client = OpenAI(api_key=google_api_key, base_url=\"https://generativelanguage.googleapis.com/v1beta/openai/\")\n",
    "openai_client = OpenAI()\n",
    "\n",
    "groq_response = groq_client.chat.completions.create(\n",
    "    model=\"llama3-8b-8192\",\n",
    "    messages=messages,\n",
    ")\n",
    "gemini_response = gemini_client.chat.completions.create(\n",
    "    model=\"gemini-2.0-flash\",\n",
    "    messages=messages,\n",
    ")\n",
    "\n",
    "openai_response = openai_client.chat.completions.create(\n",
    "    model=\"gpt-4o-mini\",\n",
    "    messages=messages,\n",
    ")\n",
    "\n",
    "print(f\"Groq : {groq_response.choices[0].message.content}\")\n",
    "print(f\"Google : {gemini_response.choices[0].message.content}\")\n",
    "print(f\"OpenAI : {openai_response.choices[0].message.content}\")\n",
    "\n",
    "\n",
    "\n",
    "\n"
   ]
  },
  {
   "cell_type": "code",
   "execution_count": 5,
   "id": "17ffd45f",
   "metadata": {},
   "outputs": [
    {
     "name": "stdout",
     "output_type": "stream",
     "text": [
      "Please come up with a challenging, nuanced question that I can ask a number of LLMs to evaluate their intelligence. Answer only with the question, no explanation.\n"
     ]
    }
   ],
   "source": [
    "request = \"Please come up with a challenging, nuanced question that I can ask a number of LLMs to evaluate their intelligence. \"\n",
    "request += \"Answer only with the question, no explanation.\"\n",
    "\n",
    "messages = [{\"role\": \"user\", \"content\": request}]\n",
    "print(messages[0][\"content\"])\n",
    "\n",
    "\n",
    "\n",
    "\n",
    "\n",
    "\n",
    "\n"
   ]
  },
  {
   "cell_type": "code",
   "execution_count": 6,
   "id": "7a2a5e43",
   "metadata": {},
   "outputs": [
    {
     "name": "stdout",
     "output_type": "stream",
     "text": [
      "If you could redesign human cognition using a combination of traits from various animal species, what traits would you select, which species would you draw from, and how would these changes impact aspects of human society like communication, creativity, and problem-solving?\n"
     ]
    }
   ],
   "source": [
    "#lets form the question\n",
    "\n",
    "openai_question = openai_client.chat.completions.create(\n",
    "    model=\"gpt-4o-mini\",\n",
    "    messages = messages\n",
    ")\n",
    "\n",
    "\n",
    "question = openai_question.choices[0].message.content\n",
    "print(question)\n"
   ]
  },
  {
   "cell_type": "code",
   "execution_count": 7,
   "id": "5ab6389c",
   "metadata": {},
   "outputs": [],
   "source": [
    "models = []\n",
    "answers = []\n",
    "messages = [{\"role\": \"user\", \"content\": question}]"
   ]
  },
  {
   "cell_type": "code",
   "execution_count": 8,
   "id": "fa488d2b",
   "metadata": {},
   "outputs": [],
   "source": [
    "client_model = {\"gemini-2.0-flash\": gemini_client,\"gpt-4o-mini\": openai_client, \"llama3-8b-8192\": groq_client}"
   ]
  },
  {
   "cell_type": "code",
   "execution_count": 9,
   "id": "a4fd4c56",
   "metadata": {},
   "outputs": [
    {
     "name": "stdout",
     "output_type": "stream",
     "text": [
      "================================================\n"
     ]
    },
    {
     "data": {
      "text/markdown": [
       "**gemini-2.0-flash**\n",
       "This is a fascinating thought experiment! Here's my attempt at redesigning human cognition, drawing inspiration from the animal kingdom and considering its potential societal impact:\n",
       "\n",
       "**Goal:** To create a more empathetic, collaborative, and resourceful human cognitive architecture while mitigating some of our current flaws (biases, impulsivity, short-sightedness).\n",
       "\n",
       "**Redesigned Cognitive Traits:**\n",
       "\n",
       "1.  **Enhanced Olfactory Perception (from Dogs/Elephants):**\n",
       "\n",
       "    *   **Species:** Dogs (for discrimination), Elephants (for long-distance sensing)\n",
       "    *   **Why:** While humans have lost a significant portion of olfactory capability, smell is deeply connected to memory and emotion. Amplified and more nuanced olfactory abilities could:\n",
       "        *   **Impact on Communication:** Augment communication through subtle scent cues (fear, stress, health status), leading to greater emotional intelligence. Imagine sensing anxiety in a colleague during a negotiation.\n",
       "        *   **Impact on Creativity:** Unlock new sensory experiences and associations, influencing artistic expression and culinary innovation. Think of \"smell composers\" creating olfactory symphonies.\n",
       "        *   **Impact on Problem-solving:** Improve threat detection (e.g., recognizing the scent of dangerous chemicals or diseases), enable better environmental monitoring, and even aid in tracking and locating resources.\n",
       "        *   **Ethical Concerns:** Privacy concerns become heightened.  Would we need \"olfactory encryption\" to mask our emotional state?\n",
       "\n",
       "2.  **Synesthesia Integration (from Synesthetic Animals, unknown):**\n",
       "\n",
       "    *   **Species:** Many animals are thought to experience synesthesia (e.g., certain insects).  It's difficult to pinpoint a specific species due to the subjective nature of the experience.\n",
       "    *   **Why:**  Synesthesia, the blending of senses (e.g., seeing sounds, tasting colors), can create novel connections and enhance creative thinking.\n",
       "        *   **Impact on Communication:** Language becomes more multi-sensory, with words evoking images, sounds, and even tastes. Art becomes more accessible to everyone as people naturally experience the senses together.\n",
       "        *   **Impact on Creativity:**  Explosive creativity as ideas form across sensory boundaries.  New art forms would emerge that leverage the cross-sensory experience.  New solutions to problems could be unlocked through multisensory thinking.\n",
       "        *   **Impact on Problem-solving:**  Enhanced pattern recognition and abstract thinking. Someone might \"see\" a mathematical equation as a color pattern that reveals its solution.\n",
       "        *   **Challenges:**  Potential for sensory overload and difficulty in focusing.  Would require development of cognitive filters to manage the sensory input.\n",
       "\n",
       "3.  **Collective Intelligence and Communication (from Ants/Bees/Wolves):**\n",
       "\n",
       "    *   **Species:** Ants, Bees (for decentralized decision-making), Wolves (for cooperative hunting)\n",
       "    *   **Why:**  Humans often struggle with large-scale collaboration.  Integrating swarm intelligence and clear communication protocols could:\n",
       "        *   **Impact on Communication:** Develop highly efficient and transparent communication systems. A global digital network could facilitate instant dissemination of information and collaborative problem-solving.\n",
       "        *   **Impact on Creativity:**  Enable collective brainstorming and innovation on a massive scale. Complex projects could be tackled by interconnected teams with specialized knowledge, working towards a common goal.\n",
       "        *   **Impact on Problem-solving:** Improve crisis response (natural disasters, pandemics) through coordinated efforts.  Resource allocation and information sharing would be significantly more efficient.\n",
       "        *   **Risks:**  Potential for hive-mind mentality and suppression of individual thought.  Need to maintain individuality and critical thinking within the collective. The ability to \"disconnect\" would be crucial.\n",
       "\n",
       "4.  **Episodic Future Thinking (from Scrub Jays):**\n",
       "\n",
       "    *   **Species:** Scrub Jays (and other corvids)\n",
       "    *   **Why:** Humans often act impulsively, neglecting long-term consequences. Scrub Jays \"cache\" food based on anticipated future needs.  Enhanced episodic future thinking would:\n",
       "        *   **Impact on Communication:**  Long-term planning and vision become central to communication. Persuasion focuses on future benefits and collective well-being rather than immediate gratification.\n",
       "        *   **Impact on Creativity:**  Future-oriented design and innovation. Artists and engineers would focus on creating sustainable solutions that benefit generations to come.\n",
       "        *   **Impact on Problem-solving:** Improve resource management, environmental stewardship, and long-term strategic planning.  Less likely to make decisions that jeopardize future well-being.\n",
       "        *   **Downside:**  Could lead to excessive anxiety about the future.  Balance is key.\n",
       "\n",
       "5.  **Spatial Awareness and Navigation (from Birds/Dolphins):**\n",
       "\n",
       "    *   **Species:** Migratory Birds (for long-distance navigation), Dolphins (for echolocation and 3D spatial understanding)\n",
       "    *   **Why:** Enhanced spatial abilities could drastically improve problem-solving, memory, and creativity.\n",
       "        *   **Impact on Communication:** Could lead to the development of new languages and communication systems that are spatially oriented, allowing for more precise and nuanced descriptions of complex environments and relationships.\n",
       "        *   **Impact on Creativity:** Spatial reasoning is crucial to understanding complex systems and processes. Scientists and engineers could design more effective and innovative solutions to complex problems by being able to visualize and manipulate spatial information more effectively.\n",
       "        *   **Impact on Problem-solving:** Improved navigation and optimization of resources. Better understanding of complex systems (e.g., climate models, urban planning).\n",
       "        *   **Considerations:** Could lead to a greater emphasis on visual and spatial thinking, potentially marginalizing other forms of intelligence.\n",
       "\n",
       "**Societal Implications (General):**\n",
       "\n",
       "*   **Greater Empathy & Cooperation:** A more collaborative and emotionally attuned society, reducing conflict and promoting social harmony.\n",
       "*   **Sustainable Future:**  Increased focus on long-term planning and environmental stewardship, leading to a more sustainable and equitable future.\n",
       "*   **Creative Renaissance:**  An explosion of creativity and innovation across all fields, driven by enhanced sensory perception, cross-sensory thinking, and collective intelligence.\n",
       "*   **Ethical Challenges:**  New ethical dilemmas arise concerning privacy, individuality, and the potential for manipulation.\n",
       "*   **Cognitive Diversity:** It is important to maintain a diversity of cognitive styles and abilities.  Too much homogeneity could stifle innovation.\n",
       "\n",
       "**Conclusion:**\n",
       "\n",
       "Redesigning human cognition is a complex and ethically fraught endeavor. While incorporating traits from other species could potentially lead to significant improvements in our ability to communicate, create, and solve problems, it is crucial to carefully consider the potential downsides and ensure that individual autonomy and cognitive diversity are preserved. This thought experiment highlights the incredible potential of the animal kingdom to inspire new approaches to human problem-solving and the importance of ethical considerations when contemplating such profound changes.\n"
      ],
      "text/plain": [
       "<IPython.core.display.Markdown object>"
      ]
     },
     "metadata": {},
     "output_type": "display_data"
    },
    {
     "name": "stdout",
     "output_type": "stream",
     "text": [
      "================================================\n",
      "================================================\n"
     ]
    },
    {
     "data": {
      "text/markdown": [
       "**gpt-4o-mini**\n",
       "Redesigning human cognition by drawing from various animal species offers an intriguing exploration into the capabilities of different traits. Here are some traits that could be selected and the potential impacts on society:\n",
       "\n",
       "1. **Memory and Spatial Navigation (Dolphins)**\n",
       "   - **Trait:** Dolphins are known for their complex social structures and advanced problem-solving abilities, aided by their excellent memory and spatial awareness.\n",
       "   - **Impact:** Enhanced memory and spatial navigation could lead to improved collaboration and teamwork. People could easily recall facts, relationships, and spatial layouts, enhancing training methods, education systems, and urban planning.\n",
       "\n",
       "2. **Sensory Perception and Communication (Dogs)**\n",
       "   - **Trait:** Dogs possess acute senses, particularly smell and hearing, and they are adept at reading human emotions and intentions through vocal tones and body language.\n",
       "   - **Impact:** With heightened emotional intelligence and sensory awareness, human communication would become more nuanced and empathetic. Conflict resolution would improve as individuals would better understand each other’s needs and feelings, fostering more compassionate societies.\n",
       "\n",
       "3. **Innovative Problem-Solving (Crows and Parrots)**\n",
       "   - **Trait:** Crows and parrots demonstrate remarkable problem-solving skills and tool use, indicating high levels of intelligence and adaptability.\n",
       "   - **Impact:** Incorporating such cognitive abilities could enhance creativity and innovation. Society might see a surge in technological advancements, artistic expressions, and new ways of tackling issues such as climate change and social inequality due to the more innovative approaches from individuals.\n",
       "\n",
       "4. **Collaborative Intelligence (Ants)**\n",
       "   - **Trait:** Ants exhibit highly organized and cooperative behavior, emphasizing collective problem-solving and resource allocation.\n",
       "   - **Impact:** Instilling a greater sense of community and collective action could transform human societies into more cooperative entities. This could lead to efficient resource distribution, enhanced community resilience, and solutions to global challenges through shared knowledge and unified efforts.\n",
       "\n",
       "5. **Adaptability and Learning (Octopus)**\n",
       "   - **Trait:** Octopuses are known for their adaptability, learning through observation, and ability to navigate complex environments.\n",
       "   - **Impact:** Enhanced adaptability could make individuals more tolerant of change, facilitating smoother transitions in societies faced with rapid technological shifts or cultural changes. Lifelong learning could become the norm, reducing resistance to new ideas and fostering a culture of continuous improvement.\n",
       "\n",
       "6. **Intuition and Instinct (Cats)**\n",
       "   - **Trait:** Cats possess strong instincts and a keen intuition about their environment.\n",
       "   - **Impact:** Improved intuition could lead individuals to make better decisions, relying less on purely logical analysis and more on holistic perceptions. This might foster creativity in strategic sectors such as business strategy and art.\n",
       "\n",
       "7. **Group Cohesion and Navigation (Wolves)**\n",
       "   - **Trait:** Wolves demonstrate strong social bonds, and coordinated group dynamics, which enhance their hunting success and survival.\n",
       "   - **Impact:** Human relationships would likely be more collaborative and group-oriented, leading to improved social structures, greater collective welfare, and possibly a decrease in loneliness and isolation issues prevalent in modern society.\n",
       "\n",
       "In combination, these traits could result in a society characterized by heightened empathy, innovative problem-solving, robust collaboration, adaptability to change, and intuitive decision-making. The arts might flourish, technological advancements could accelerate, and global cooperation could become more seamless as humans become more attuned to each other and their environments. Balancing individual desires with community well-being would be pivotal in shaping a prosperous and harmonious society."
      ],
      "text/plain": [
       "<IPython.core.display.Markdown object>"
      ]
     },
     "metadata": {},
     "output_type": "display_data"
    },
    {
     "name": "stdout",
     "output_type": "stream",
     "text": [
      "================================================\n",
      "================================================\n"
     ]
    },
    {
     "data": {
      "text/markdown": [
       "**llama3-8b-8192**\n",
       "What a fascinating question! Redesigning human cognition by combining traits from various animal species would indeed be a complex and intriguing endeavor. Here's a hypothetical scenario where I select and combine traits from different species to create a unique cognitive profile, examining its potential impact on human society.\n",
       "\n",
       "**Traits selection:**\n",
       "\n",
       "1. **Omnidirectional attention** from octopuses: Octopuses can focus on multiple stimuli simultaneously, making them excellent at multitasking. Humans could benefit from this trait, enabling them to process and respond to various information sources concurrently.\n",
       "2. **Spatial reasoning** from bees: Bees excel at navigating complex spatial environments, remembering the location of food sources, and communicating this information to their colony. Humans could incorporate this trait to improve their ability to understand complex spatial relationships and problem-solve in geometrically demanding situations.\n",
       "3. **Pattern recognition** from dolphins: Dolphins possess exceptional pattern recognition abilities, allowing them to identify and track prey, recognize friendly and hostile individuals, and even understand human language. Humans could integrate this trait to improve their ability to recognize patterns, decipher hidden information, and make connections between seemingly unrelated concepts.\n",
       "4. **Adaptive learning** from ants: Ants are renowned for their ability to adapt to changing environments and learn from experience. Humans could incorporate this trait to enhance their capacity for rapid learning, problem-solving, and adapting to new situations.\n",
       "5. **Efficient communication** from birds: Birds have evolved sophisticated communication systems, including visual, auditory, and kinetic cues. Humans could benefit from adopting more efficient and nuanced communication methods, reducing misunderstandings and improving collaboration.\n",
       "\n",
       "**Cognitive profile:**\n",
       "\n",
       "With these traits combined, the redesigned human cognitive profile would possess the following characteristics:\n",
       "\n",
       "* **Multitasking**: The ability to focus on multiple stimuli simultaneously, allowing individuals to process and respond to various information sources concurrently.\n",
       "* **Spatial intelligence**: Enhanced spatial reasoning, enabling individuals to understand complex geometric relationships and navigate challenging environments.\n",
       "* **Pattern recognition**: Improved ability to identify and decipher patterns, facilitating connections between seemingly unrelated concepts and enhanced problem-solving capacity.\n",
       "* **Adaptive learning**: Rapid adaptation to changing environments and learning from experience, facilitating efficient problem-solving and response to new situations.\n",
       "* **Efficient communication**: Nuanced and efficient communication methods, reducing misunderstandings and improving collaboration.\n",
       "\n",
       "**Impact on human society:**\n",
       "\n",
       "This redesigned cognitive profile would likely have significant impacts on various aspects of human society:\n",
       "\n",
       "* **Communication**: Improved communication methods would enhance collaboration, reduce misunderstandings, and facilitate more effective problem-solving. This could lead to increased efficiency in industries, improved decision-making in governments, and more harmonious personal relationships.\n",
       "* **Creativity**: Enhanced pattern recognition and spatial intelligence could lead to breakthroughs in art, science, and technology. The ability to connect seemingly unrelated concepts could result in innovative solutions to complex problems.\n",
       "* **Problem-solving**: The adaptive learning and pattern recognition abilities could lead to more efficient and effective problem-solving, enabling humans to respond to complex challenges more quickly and creatively.\n",
       "* **Education**: The multitasking and adaptive learning traits could revolutionize traditional educational approaches, enabling students to learn more rapidly and effectively, and making lifelong learning a more accessible and enjoyable experience.\n",
       "* **Workforce**: The efficient communication and spatial intelligence traits could increase productivity and collaboration in industries such as construction, architecture, and logistics, while the adaptive learning and pattern recognition abilities could enable workers to respond more effectively to changing circumstances and complex problems.\n",
       "\n",
       "**Challenges and limitations:**\n",
       "\n",
       "While this redesigned cognitive profile would bring many benefits, there are also potential challenges and limitations to consider:\n",
       "\n",
       "* **Cultural and social adjustments**: This new cognitive profile would require significant cultural and social adaptations, as traditional communication and problem-solving methods would need to be revised.\n",
       "* **Neurological and psychological impacts**: The introduction of these new traits could lead to concerns about neurological and psychological well-being, particularly if individuals struggle to accommodate the changes.\n",
       "* **Ethical considerations**: The potential for exploiting or using these traits for malicious purposes would need to be carefully considered and addressed.\n",
       "\n",
       "In conclusion, redesigning human cognition using a combination of traits from various animal species is a fascinating thought experiment that highlights the potential for optimizing human cognitive abilities. While there are challenges and limitations to consider, the benefits of this redesigned cognitive profile would likely have significant impacts on communication, creativity, and problem-solving, ultimately enhancing human society as a whole."
      ],
      "text/plain": [
       "<IPython.core.display.Markdown object>"
      ]
     },
     "metadata": {},
     "output_type": "display_data"
    },
    {
     "name": "stdout",
     "output_type": "stream",
     "text": [
      "================================================\n"
     ]
    }
   ],
   "source": [
    "for model, client in client_model.items():\n",
    "    model_response = client.chat.completions.create(\n",
    "        model=model,\n",
    "        messages=messages\n",
    "    )\n",
    "    model_answer = model_response.choices[0].message.content\n",
    "\n",
    "    models.append(model)\n",
    "    answers.append(model_answer)\n",
    "    print(\"================================================\")\n",
    "    display(Markdown(f\"**{model}**\\n{model_answer}\"))\n",
    "    print(\"================================================\")\n"
   ]
  },
  {
   "cell_type": "code",
   "execution_count": 10,
   "id": "00f4f937",
   "metadata": {},
   "outputs": [
    {
     "name": "stdout",
     "output_type": "stream",
     "text": [
      "Competitor: gemini-2.0-flash \n",
      "\n",
      "\n",
      "This is a fascinating thought experiment! Here's my attempt at redesigning human cognition, drawing inspiration from the animal kingdom and considering its potential societal impact:\n",
      "\n",
      "**Goal:** To create a more empathetic, collaborative, and resourceful human cognitive architecture while mitigating some of our current flaws (biases, impulsivity, short-sightedness).\n",
      "\n",
      "**Redesigned Cognitive Traits:**\n",
      "\n",
      "1.  **Enhanced Olfactory Perception (from Dogs/Elephants):**\n",
      "\n",
      "    *   **Species:** Dogs (for disc\n",
      "================================================\n",
      "Competitor: gpt-4o-mini \n",
      "\n",
      "\n",
      "Redesigning human cognition by drawing from various animal species offers an intriguing exploration into the capabilities of different traits. Here are some traits that could be selected and the potential impacts on society:\n",
      "\n",
      "1. **Memory and Spatial Navigation (Dolphins)**\n",
      "   - **Trait:** Dolphins are known for their complex social structures and advanced problem-solving abilities, aided by their excellent memory and spatial awareness.\n",
      "   - **Impact:** Enhanced memory and spatial navigation coul\n",
      "================================================\n",
      "Competitor: llama3-8b-8192 \n",
      "\n",
      "\n",
      "What a fascinating question! Redesigning human cognition by combining traits from various animal species would indeed be a complex and intriguing endeavor. Here's a hypothetical scenario where I select and combine traits from different species to create a unique cognitive profile, examining its potential impact on human society.\n",
      "\n",
      "**Traits selection:**\n",
      "\n",
      "1. **Omnidirectional attention** from octopuses: Octopuses can focus on multiple stimuli simultaneously, making them excellent at multitasking. H\n",
      "================================================\n"
     ]
    }
   ],
   "source": [
    "for model,answer in zip(models,answers):\n",
    "    print(f\"Competitor: {model} \\n\\n\\n{answer[:500]}\")\n",
    "    print(\"================================================\")"
   ]
  },
  {
   "cell_type": "code",
   "execution_count": 19,
   "id": "1948ad3e",
   "metadata": {},
   "outputs": [],
   "source": [
    "all_answers = \"\"\n",
    "\n",
    "\n",
    "for index,answer in enumerate(answers):\n",
    "    all_answers += f\"# Response from competitor {index+1}\\n\\n\"\n",
    "    all_answers += answer + \"\\n\\n\"\n"
   ]
  },
  {
   "cell_type": "code",
   "execution_count": 20,
   "id": "19c2100f",
   "metadata": {},
   "outputs": [
    {
     "name": "stdout",
     "output_type": "stream",
     "text": [
      "# Response from competitor 1\n",
      "\n",
      "This is a fascinating thought experiment! Here's my attempt at redesigning human cognition, drawing inspiration from the animal kingdom and considering its potential societal impact:\n",
      "\n",
      "**Goal:** To create a more empathetic, collaborative, and resourceful human cognitive architecture while mitigating some of our current flaws (biases, impulsivity, short-sightedness).\n",
      "\n",
      "**Redesigned Cognitive Traits:**\n",
      "\n",
      "1.  **Enhanced Olfactory Perception (from Dogs/Elephants):**\n",
      "\n",
      "    *   **Species:** Dogs (for discrimination), Elephants (for long-distance sensing)\n",
      "    *   **Why:** While humans have lost a significant portion of olfactory capability, smell is deeply connected to memory and emotion. Amplified and more nuanced olfactory abilities could:\n",
      "        *   **Impact on Communication:** Augment communication through subtle scent cues (fear, stress, health status), leading to greater emotional intelligence. Imagine sensing anxiety in a colleague during a negotiation.\n",
      "        *   **Impact on Creativity:** Unlock new sensory experiences and associations, influencing artistic expression and culinary innovation. Think of \"smell composers\" creating olfactory symphonies.\n",
      "        *   **Impact on Problem-solving:** Improve threat detection (e.g., recognizing the scent of dangerous chemicals or diseases), enable better environmental monitoring, and even aid in tracking and locating resources.\n",
      "        *   **Ethical Concerns:** Privacy concerns become heightened.  Would we need \"olfactory encryption\" to mask our emotional state?\n",
      "\n",
      "2.  **Synesthesia Integration (from Synesthetic Animals, unknown):**\n",
      "\n",
      "    *   **Species:** Many animals are thought to experience synesthesia (e.g., certain insects).  It's difficult to pinpoint a specific species due to the subjective nature of the experience.\n",
      "    *   **Why:**  Synesthesia, the blending of senses (e.g., seeing sounds, tasting colors), can create novel connections and enhance creative thinking.\n",
      "        *   **Impact on Communication:** Language becomes more multi-sensory, with words evoking images, sounds, and even tastes. Art becomes more accessible to everyone as people naturally experience the senses together.\n",
      "        *   **Impact on Creativity:**  Explosive creativity as ideas form across sensory boundaries.  New art forms would emerge that leverage the cross-sensory experience.  New solutions to problems could be unlocked through multisensory thinking.\n",
      "        *   **Impact on Problem-solving:**  Enhanced pattern recognition and abstract thinking. Someone might \"see\" a mathematical equation as a color pattern that reveals its solution.\n",
      "        *   **Challenges:**  Potential for sensory overload and difficulty in focusing.  Would require development of cognitive filters to manage the sensory input.\n",
      "\n",
      "3.  **Collective Intelligence and Communication (from Ants/Bees/Wolves):**\n",
      "\n",
      "    *   **Species:** Ants, Bees (for decentralized decision-making), Wolves (for cooperative hunting)\n",
      "    *   **Why:**  Humans often struggle with large-scale collaboration.  Integrating swarm intelligence and clear communication protocols could:\n",
      "        *   **Impact on Communication:** Develop highly efficient and transparent communication systems. A global digital network could facilitate instant dissemination of information and collaborative problem-solving.\n",
      "        *   **Impact on Creativity:**  Enable collective brainstorming and innovation on a massive scale. Complex projects could be tackled by interconnected teams with specialized knowledge, working towards a common goal.\n",
      "        *   **Impact on Problem-solving:** Improve crisis response (natural disasters, pandemics) through coordinated efforts.  Resource allocation and information sharing would be significantly more efficient.\n",
      "        *   **Risks:**  Potential for hive-mind mentality and suppression of individual thought.  Need to maintain individuality and critical thinking within the collective. The ability to \"disconnect\" would be crucial.\n",
      "\n",
      "4.  **Episodic Future Thinking (from Scrub Jays):**\n",
      "\n",
      "    *   **Species:** Scrub Jays (and other corvids)\n",
      "    *   **Why:** Humans often act impulsively, neglecting long-term consequences. Scrub Jays \"cache\" food based on anticipated future needs.  Enhanced episodic future thinking would:\n",
      "        *   **Impact on Communication:**  Long-term planning and vision become central to communication. Persuasion focuses on future benefits and collective well-being rather than immediate gratification.\n",
      "        *   **Impact on Creativity:**  Future-oriented design and innovation. Artists and engineers would focus on creating sustainable solutions that benefit generations to come.\n",
      "        *   **Impact on Problem-solving:** Improve resource management, environmental stewardship, and long-term strategic planning.  Less likely to make decisions that jeopardize future well-being.\n",
      "        *   **Downside:**  Could lead to excessive anxiety about the future.  Balance is key.\n",
      "\n",
      "5.  **Spatial Awareness and Navigation (from Birds/Dolphins):**\n",
      "\n",
      "    *   **Species:** Migratory Birds (for long-distance navigation), Dolphins (for echolocation and 3D spatial understanding)\n",
      "    *   **Why:** Enhanced spatial abilities could drastically improve problem-solving, memory, and creativity.\n",
      "        *   **Impact on Communication:** Could lead to the development of new languages and communication systems that are spatially oriented, allowing for more precise and nuanced descriptions of complex environments and relationships.\n",
      "        *   **Impact on Creativity:** Spatial reasoning is crucial to understanding complex systems and processes. Scientists and engineers could design more effective and innovative solutions to complex problems by being able to visualize and manipulate spatial information more effectively.\n",
      "        *   **Impact on Problem-solving:** Improved navigation and optimization of resources. Better understanding of complex systems (e.g., climate models, urban planning).\n",
      "        *   **Considerations:** Could lead to a greater emphasis on visual and spatial thinking, potentially marginalizing other forms of intelligence.\n",
      "\n",
      "**Societal Implications (General):**\n",
      "\n",
      "*   **Greater Empathy & Cooperation:** A more collaborative and emotionally attuned society, reducing conflict and promoting social harmony.\n",
      "*   **Sustainable Future:**  Increased focus on long-term planning and environmental stewardship, leading to a more sustainable and equitable future.\n",
      "*   **Creative Renaissance:**  An explosion of creativity and innovation across all fields, driven by enhanced sensory perception, cross-sensory thinking, and collective intelligence.\n",
      "*   **Ethical Challenges:**  New ethical dilemmas arise concerning privacy, individuality, and the potential for manipulation.\n",
      "*   **Cognitive Diversity:** It is important to maintain a diversity of cognitive styles and abilities.  Too much homogeneity could stifle innovation.\n",
      "\n",
      "**Conclusion:**\n",
      "\n",
      "Redesigning human cognition is a complex and ethically fraught endeavor. While incorporating traits from other species could potentially lead to significant improvements in our ability to communicate, create, and solve problems, it is crucial to carefully consider the potential downsides and ensure that individual autonomy and cognitive diversity are preserved. This thought experiment highlights the incredible potential of the animal kingdom to inspire new approaches to human problem-solving and the importance of ethical considerations when contemplating such profound changes.\n",
      "\n",
      "\n",
      "# Response from competitor 2\n",
      "\n",
      "Redesigning human cognition by drawing from various animal species offers an intriguing exploration into the capabilities of different traits. Here are some traits that could be selected and the potential impacts on society:\n",
      "\n",
      "1. **Memory and Spatial Navigation (Dolphins)**\n",
      "   - **Trait:** Dolphins are known for their complex social structures and advanced problem-solving abilities, aided by their excellent memory and spatial awareness.\n",
      "   - **Impact:** Enhanced memory and spatial navigation could lead to improved collaboration and teamwork. People could easily recall facts, relationships, and spatial layouts, enhancing training methods, education systems, and urban planning.\n",
      "\n",
      "2. **Sensory Perception and Communication (Dogs)**\n",
      "   - **Trait:** Dogs possess acute senses, particularly smell and hearing, and they are adept at reading human emotions and intentions through vocal tones and body language.\n",
      "   - **Impact:** With heightened emotional intelligence and sensory awareness, human communication would become more nuanced and empathetic. Conflict resolution would improve as individuals would better understand each other’s needs and feelings, fostering more compassionate societies.\n",
      "\n",
      "3. **Innovative Problem-Solving (Crows and Parrots)**\n",
      "   - **Trait:** Crows and parrots demonstrate remarkable problem-solving skills and tool use, indicating high levels of intelligence and adaptability.\n",
      "   - **Impact:** Incorporating such cognitive abilities could enhance creativity and innovation. Society might see a surge in technological advancements, artistic expressions, and new ways of tackling issues such as climate change and social inequality due to the more innovative approaches from individuals.\n",
      "\n",
      "4. **Collaborative Intelligence (Ants)**\n",
      "   - **Trait:** Ants exhibit highly organized and cooperative behavior, emphasizing collective problem-solving and resource allocation.\n",
      "   - **Impact:** Instilling a greater sense of community and collective action could transform human societies into more cooperative entities. This could lead to efficient resource distribution, enhanced community resilience, and solutions to global challenges through shared knowledge and unified efforts.\n",
      "\n",
      "5. **Adaptability and Learning (Octopus)**\n",
      "   - **Trait:** Octopuses are known for their adaptability, learning through observation, and ability to navigate complex environments.\n",
      "   - **Impact:** Enhanced adaptability could make individuals more tolerant of change, facilitating smoother transitions in societies faced with rapid technological shifts or cultural changes. Lifelong learning could become the norm, reducing resistance to new ideas and fostering a culture of continuous improvement.\n",
      "\n",
      "6. **Intuition and Instinct (Cats)**\n",
      "   - **Trait:** Cats possess strong instincts and a keen intuition about their environment.\n",
      "   - **Impact:** Improved intuition could lead individuals to make better decisions, relying less on purely logical analysis and more on holistic perceptions. This might foster creativity in strategic sectors such as business strategy and art.\n",
      "\n",
      "7. **Group Cohesion and Navigation (Wolves)**\n",
      "   - **Trait:** Wolves demonstrate strong social bonds, and coordinated group dynamics, which enhance their hunting success and survival.\n",
      "   - **Impact:** Human relationships would likely be more collaborative and group-oriented, leading to improved social structures, greater collective welfare, and possibly a decrease in loneliness and isolation issues prevalent in modern society.\n",
      "\n",
      "In combination, these traits could result in a society characterized by heightened empathy, innovative problem-solving, robust collaboration, adaptability to change, and intuitive decision-making. The arts might flourish, technological advancements could accelerate, and global cooperation could become more seamless as humans become more attuned to each other and their environments. Balancing individual desires with community well-being would be pivotal in shaping a prosperous and harmonious society.\n",
      "\n",
      "# Response from competitor 3\n",
      "\n",
      "What a fascinating question! Redesigning human cognition by combining traits from various animal species would indeed be a complex and intriguing endeavor. Here's a hypothetical scenario where I select and combine traits from different species to create a unique cognitive profile, examining its potential impact on human society.\n",
      "\n",
      "**Traits selection:**\n",
      "\n",
      "1. **Omnidirectional attention** from octopuses: Octopuses can focus on multiple stimuli simultaneously, making them excellent at multitasking. Humans could benefit from this trait, enabling them to process and respond to various information sources concurrently.\n",
      "2. **Spatial reasoning** from bees: Bees excel at navigating complex spatial environments, remembering the location of food sources, and communicating this information to their colony. Humans could incorporate this trait to improve their ability to understand complex spatial relationships and problem-solve in geometrically demanding situations.\n",
      "3. **Pattern recognition** from dolphins: Dolphins possess exceptional pattern recognition abilities, allowing them to identify and track prey, recognize friendly and hostile individuals, and even understand human language. Humans could integrate this trait to improve their ability to recognize patterns, decipher hidden information, and make connections between seemingly unrelated concepts.\n",
      "4. **Adaptive learning** from ants: Ants are renowned for their ability to adapt to changing environments and learn from experience. Humans could incorporate this trait to enhance their capacity for rapid learning, problem-solving, and adapting to new situations.\n",
      "5. **Efficient communication** from birds: Birds have evolved sophisticated communication systems, including visual, auditory, and kinetic cues. Humans could benefit from adopting more efficient and nuanced communication methods, reducing misunderstandings and improving collaboration.\n",
      "\n",
      "**Cognitive profile:**\n",
      "\n",
      "With these traits combined, the redesigned human cognitive profile would possess the following characteristics:\n",
      "\n",
      "* **Multitasking**: The ability to focus on multiple stimuli simultaneously, allowing individuals to process and respond to various information sources concurrently.\n",
      "* **Spatial intelligence**: Enhanced spatial reasoning, enabling individuals to understand complex geometric relationships and navigate challenging environments.\n",
      "* **Pattern recognition**: Improved ability to identify and decipher patterns, facilitating connections between seemingly unrelated concepts and enhanced problem-solving capacity.\n",
      "* **Adaptive learning**: Rapid adaptation to changing environments and learning from experience, facilitating efficient problem-solving and response to new situations.\n",
      "* **Efficient communication**: Nuanced and efficient communication methods, reducing misunderstandings and improving collaboration.\n",
      "\n",
      "**Impact on human society:**\n",
      "\n",
      "This redesigned cognitive profile would likely have significant impacts on various aspects of human society:\n",
      "\n",
      "* **Communication**: Improved communication methods would enhance collaboration, reduce misunderstandings, and facilitate more effective problem-solving. This could lead to increased efficiency in industries, improved decision-making in governments, and more harmonious personal relationships.\n",
      "* **Creativity**: Enhanced pattern recognition and spatial intelligence could lead to breakthroughs in art, science, and technology. The ability to connect seemingly unrelated concepts could result in innovative solutions to complex problems.\n",
      "* **Problem-solving**: The adaptive learning and pattern recognition abilities could lead to more efficient and effective problem-solving, enabling humans to respond to complex challenges more quickly and creatively.\n",
      "* **Education**: The multitasking and adaptive learning traits could revolutionize traditional educational approaches, enabling students to learn more rapidly and effectively, and making lifelong learning a more accessible and enjoyable experience.\n",
      "* **Workforce**: The efficient communication and spatial intelligence traits could increase productivity and collaboration in industries such as construction, architecture, and logistics, while the adaptive learning and pattern recognition abilities could enable workers to respond more effectively to changing circumstances and complex problems.\n",
      "\n",
      "**Challenges and limitations:**\n",
      "\n",
      "While this redesigned cognitive profile would bring many benefits, there are also potential challenges and limitations to consider:\n",
      "\n",
      "* **Cultural and social adjustments**: This new cognitive profile would require significant cultural and social adaptations, as traditional communication and problem-solving methods would need to be revised.\n",
      "* **Neurological and psychological impacts**: The introduction of these new traits could lead to concerns about neurological and psychological well-being, particularly if individuals struggle to accommodate the changes.\n",
      "* **Ethical considerations**: The potential for exploiting or using these traits for malicious purposes would need to be carefully considered and addressed.\n",
      "\n",
      "In conclusion, redesigning human cognition using a combination of traits from various animal species is a fascinating thought experiment that highlights the potential for optimizing human cognitive abilities. While there are challenges and limitations to consider, the benefits of this redesigned cognitive profile would likely have significant impacts on communication, creativity, and problem-solving, ultimately enhancing human society as a whole.\n",
      "\n",
      "\n"
     ]
    }
   ],
   "source": [
    "print(all_answers)"
   ]
  },
  {
   "cell_type": "code",
   "execution_count": null,
   "id": "98e8b191",
   "metadata": {},
   "outputs": [],
   "source": []
  },
  {
   "cell_type": "code",
   "execution_count": 21,
   "id": "5b66c827",
   "metadata": {},
   "outputs": [],
   "source": [
    "judge = f\"\"\"You are judging a competition between {len(models)} competitors.\n",
    "Each model has been given this question:\n",
    "\n",
    "{question}\n",
    "\n",
    "Your job is to evaluate each response for clarity and strength of argument, and rank them in order of best to worst.\n",
    "Respond with JSON, and only JSON, with the following format:\n",
    "{{\"results\": [\"best competitor number\", \"second best competitor number\", \"third best competitor number\", ...]}}\n",
    "\n",
    "Here are the responses from each competitor:\n",
    "\n",
    "{all_answers}\n",
    "\n",
    "Now respond with the JSON with the ranked order of the competitors, nothing else. Do not include markdown formatting or code blocks.\"\"\"\n"
   ]
  },
  {
   "cell_type": "code",
   "execution_count": 22,
   "id": "bbb10af2",
   "metadata": {},
   "outputs": [],
   "source": [
    "judge_messages = [{\"role\": \"user\", \"content\": judge}]"
   ]
  },
  {
   "cell_type": "code",
   "execution_count": 25,
   "id": "bcae0ef6",
   "metadata": {},
   "outputs": [
    {
     "name": "stdout",
     "output_type": "stream",
     "text": [
      "{\"results\": [\"1\", \"3\", \"2\"]}\n"
     ]
    }
   ],
   "source": [
    "judge_answer = openai_client.chat.completions.create(\n",
    "    model=\"o3-mini\",\n",
    "    messages=judge_messages\n",
    "\n",
    ")\n",
    "\n",
    "result = judge_answer.choices[0].message.content\n",
    "print(result)\n",
    "\n",
    "\n",
    "\n",
    "\n"
   ]
  },
  {
   "cell_type": "code",
   "execution_count": 26,
   "id": "ce9365cb",
   "metadata": {},
   "outputs": [
    {
     "name": "stdout",
     "output_type": "stream",
     "text": [
      "Rank 1: gemini-2.0-flash\n",
      "Rank 2: llama3-8b-8192\n",
      "Rank 3: gpt-4o-mini\n"
     ]
    }
   ],
   "source": [
    "results_dict = json.loads(result)\n",
    "ranks = results_dict[\"results\"]\n",
    "for index, result in enumerate(ranks):\n",
    "    competitor = models[int(result)-1]\n",
    "    print(f\"Rank {index+1}: {competitor}\")"
   ]
  },
  {
   "cell_type": "markdown",
   "id": "d62ae12d",
   "metadata": {},
   "source": []
  }
 ],
 "metadata": {
  "kernelspec": {
   "display_name": ".venv",
   "language": "python",
   "name": "python3"
  },
  "language_info": {
   "codemirror_mode": {
    "name": "ipython",
    "version": 3
   },
   "file_extension": ".py",
   "mimetype": "text/x-python",
   "name": "python",
   "nbconvert_exporter": "python",
   "pygments_lexer": "ipython3",
   "version": "3.12.9"
  }
 },
 "nbformat": 4,
 "nbformat_minor": 5
}
