{
 "cells": [
  {
   "cell_type": "markdown",
   "id": "decce812",
   "metadata": {},
   "source": [
    "#### Pydantic Basics: Creating and Using Models\n",
    "Pydantic models are the foundation of data validation in Python. They use Python type annotations to define the structure and validate data at runtime. Here's a detailed exploration of basic model creation with several examples.\n",
    "\n"
   ]
  },
  {
   "cell_type": "code",
   "execution_count": 2,
   "id": "c2770f12",
   "metadata": {},
   "outputs": [],
   "source": [
    "from pydantic import BaseModel\n",
    "from typing import Optional, List"
   ]
  },
  {
   "cell_type": "code",
   "execution_count": 3,
   "id": "8c40d06e",
   "metadata": {},
   "outputs": [],
   "source": [
    "class Person(BaseModel):\n",
    "    name:str\n",
    "    age:int\n",
    "    city:str"
   ]
  },
  {
   "cell_type": "code",
   "execution_count": 4,
   "id": "94ec1725",
   "metadata": {},
   "outputs": [
    {
     "name": "stdout",
     "output_type": "stream",
     "text": [
      "name='John' age=30 city='New York'\n"
     ]
    }
   ],
   "source": [
    "person = Person(name = \"John\", age = 30, city = \"New York\")\n",
    "print(person)"
   ]
  },
  {
   "cell_type": "code",
   "execution_count": 5,
   "id": "e4d5d8ca",
   "metadata": {},
   "outputs": [
    {
     "name": "stdout",
     "output_type": "stream",
     "text": [
      "name='John' age=30 city='New York'\n"
     ]
    }
   ],
   "source": [
    "person1 = Person(name = \"John\", age = \"30\", city = \"New York\")\n",
    "print(person1)"
   ]
  },
  {
   "cell_type": "code",
   "execution_count": 6,
   "id": "cfbb5a87",
   "metadata": {},
   "outputs": [
    {
     "ename": "ValidationError",
     "evalue": "1 validation error for Person\ncity\n  Input should be a valid string [type=string_type, input_value=12, input_type=int]\n    For further information visit https://errors.pydantic.dev/2.11/v/string_type",
     "output_type": "error",
     "traceback": [
      "\u001b[31m---------------------------------------------------------------------------\u001b[39m",
      "\u001b[31mValidationError\u001b[39m                           Traceback (most recent call last)",
      "\u001b[36mCell\u001b[39m\u001b[36m \u001b[39m\u001b[32mIn[6]\u001b[39m\u001b[32m, line 1\u001b[39m\n\u001b[32m----> \u001b[39m\u001b[32m1\u001b[39m person2 = \u001b[43mPerson\u001b[49m\u001b[43m(\u001b[49m\u001b[43mname\u001b[49m\u001b[43m \u001b[49m\u001b[43m=\u001b[49m\u001b[43m \u001b[49m\u001b[33;43m\"\u001b[39;49m\u001b[33;43mJohn\u001b[39;49m\u001b[33;43m\"\u001b[39;49m\u001b[43m,\u001b[49m\u001b[43m \u001b[49m\u001b[43mage\u001b[49m\u001b[43m \u001b[49m\u001b[43m=\u001b[49m\u001b[43m \u001b[49m\u001b[33;43m\"\u001b[39;49m\u001b[33;43m30\u001b[39;49m\u001b[33;43m\"\u001b[39;49m\u001b[43m,\u001b[49m\u001b[43m \u001b[49m\u001b[43mcity\u001b[49m\u001b[43m \u001b[49m\u001b[43m=\u001b[49m\u001b[43m \u001b[49m\u001b[32;43m12\u001b[39;49m\u001b[43m)\u001b[49m\n\u001b[32m      2\u001b[39m \u001b[38;5;28mprint\u001b[39m(person2)\n",
      "\u001b[36mFile \u001b[39m\u001b[32mc:\\Users\\siman\\PythonProjects\\Agentic_AI_Simant\\agentic\\Lib\\site-packages\\pydantic\\main.py:253\u001b[39m, in \u001b[36mBaseModel.__init__\u001b[39m\u001b[34m(self, **data)\u001b[39m\n\u001b[32m    251\u001b[39m \u001b[38;5;66;03m# `__tracebackhide__` tells pytest and some other tools to omit this function from tracebacks\u001b[39;00m\n\u001b[32m    252\u001b[39m __tracebackhide__ = \u001b[38;5;28;01mTrue\u001b[39;00m\n\u001b[32m--> \u001b[39m\u001b[32m253\u001b[39m validated_self = \u001b[38;5;28;43mself\u001b[39;49m\u001b[43m.\u001b[49m\u001b[43m__pydantic_validator__\u001b[49m\u001b[43m.\u001b[49m\u001b[43mvalidate_python\u001b[49m\u001b[43m(\u001b[49m\u001b[43mdata\u001b[49m\u001b[43m,\u001b[49m\u001b[43m \u001b[49m\u001b[43mself_instance\u001b[49m\u001b[43m=\u001b[49m\u001b[38;5;28;43mself\u001b[39;49m\u001b[43m)\u001b[49m\n\u001b[32m    254\u001b[39m \u001b[38;5;28;01mif\u001b[39;00m \u001b[38;5;28mself\u001b[39m \u001b[38;5;129;01mis\u001b[39;00m \u001b[38;5;129;01mnot\u001b[39;00m validated_self:\n\u001b[32m    255\u001b[39m     warnings.warn(\n\u001b[32m    256\u001b[39m         \u001b[33m'\u001b[39m\u001b[33mA custom validator is returning a value other than `self`.\u001b[39m\u001b[38;5;130;01m\\n\u001b[39;00m\u001b[33m'\u001b[39m\n\u001b[32m    257\u001b[39m         \u001b[33m\"\u001b[39m\u001b[33mReturning anything other than `self` from a top level model validator isn\u001b[39m\u001b[33m'\u001b[39m\u001b[33mt supported when validating via `__init__`.\u001b[39m\u001b[38;5;130;01m\\n\u001b[39;00m\u001b[33m\"\u001b[39m\n\u001b[32m    258\u001b[39m         \u001b[33m'\u001b[39m\u001b[33mSee the `model_validator` docs (https://docs.pydantic.dev/latest/concepts/validators/#model-validators) for more details.\u001b[39m\u001b[33m'\u001b[39m,\n\u001b[32m    259\u001b[39m         stacklevel=\u001b[32m2\u001b[39m,\n\u001b[32m    260\u001b[39m     )\n",
      "\u001b[31mValidationError\u001b[39m: 1 validation error for Person\ncity\n  Input should be a valid string [type=string_type, input_value=12, input_type=int]\n    For further information visit https://errors.pydantic.dev/2.11/v/string_type"
     ]
    }
   ],
   "source": [
    "person2 = Person(name = \"John\", age = \"30\", city = 12)\n",
    "print(person2)"
   ]
  },
  {
   "cell_type": "markdown",
   "id": "920e98ec",
   "metadata": {},
   "source": [
    "#### Custom class can also be created using dataclass, but there will be no validation"
   ]
  },
  {
   "cell_type": "code",
   "execution_count": 7,
   "id": "4261f32e",
   "metadata": {},
   "outputs": [],
   "source": [
    "from dataclasses import dataclass"
   ]
  },
  {
   "cell_type": "code",
   "execution_count": 8,
   "id": "34a56a1e",
   "metadata": {},
   "outputs": [],
   "source": [
    "@dataclass\n",
    "class Person_dc():\n",
    "    name:str\n",
    "    age:int\n",
    "    city:str"
   ]
  },
  {
   "cell_type": "code",
   "execution_count": 9,
   "id": "242acb12",
   "metadata": {},
   "outputs": [
    {
     "name": "stdout",
     "output_type": "stream",
     "text": [
      "Person_dc(name='John', age='30', city=12)\n"
     ]
    }
   ],
   "source": [
    "person3 = Person_dc(name = \"John\", age = \"30\", city = 12)\n",
    "print(person3)"
   ]
  },
  {
   "cell_type": "markdown",
   "id": "d385393e",
   "metadata": {},
   "source": [
    "#### 2. Model with Optional Fields\n",
    "Add optional fields using Python's Optional type:\n",
    "\n"
   ]
  },
  {
   "cell_type": "markdown",
   "id": "6afbb2e1",
   "metadata": {},
   "source": [
    "Definition:\n",
    "- Optional[type]: Indicates the field can be None\n",
    "\n",
    "- Default value (= None or = True): Makes the field optional\n",
    "\n",
    "- Required fields must still be provided\n",
    "\n",
    "- Pydantic validates types even for optional fields when values are provided"
   ]
  },
  {
   "cell_type": "code",
   "execution_count": 10,
   "id": "1785f280",
   "metadata": {},
   "outputs": [],
   "source": [
    "class Employee(BaseModel):\n",
    "    name: str\n",
    "    age: int\n",
    "    dept: str\n",
    "    salary: Optional[float] = None\n",
    "    is_active: Optional[bool] = True"
   ]
  },
  {
   "cell_type": "code",
   "execution_count": 11,
   "id": "6288aeaf",
   "metadata": {},
   "outputs": [
    {
     "name": "stdout",
     "output_type": "stream",
     "text": [
      "name='John' age=30 dept='IT' salary=100000.0 is_active=True\n"
     ]
    }
   ],
   "source": [
    "emp1 = Employee(name = \"John\", age = 30, dept = \"IT\", salary = 100000, is_active = True)\n",
    "print(emp1)"
   ]
  },
  {
   "cell_type": "code",
   "execution_count": 12,
   "id": "958d9efc",
   "metadata": {},
   "outputs": [
    {
     "data": {
      "text/plain": [
       "Employee(name='Joe', age=23, dept='IT', salary=None, is_active=True)"
      ]
     },
     "execution_count": 12,
     "metadata": {},
     "output_type": "execute_result"
    }
   ],
   "source": [
    "emp2 = Employee(name = \"Joe\", age = 23, dept = \"IT\")\n",
    "emp2"
   ]
  },
  {
   "cell_type": "markdown",
   "id": "5e7f4f38",
   "metadata": {},
   "source": [
    "#### 3. Model with List Fields"
   ]
  },
  {
   "cell_type": "code",
   "execution_count": 13,
   "id": "12a8c83b",
   "metadata": {},
   "outputs": [],
   "source": [
    "class Classroom(BaseModel):\n",
    "    room_number: str\n",
    "    students: List[str]\n",
    "    capacity: int"
   ]
  },
  {
   "cell_type": "code",
   "execution_count": 14,
   "id": "cbaed83d",
   "metadata": {},
   "outputs": [
    {
     "name": "stdout",
     "output_type": "stream",
     "text": [
      "room_number='A101' students=['John', 'Jane', 'Jim'] capacity=30\n"
     ]
    }
   ],
   "source": [
    "cls1 = Classroom(room_number = \"A101\", students = [\"John\", \"Jane\", \"Jim\"], capacity = 30)\n",
    "print(cls1)"
   ]
  },
  {
   "cell_type": "code",
   "execution_count": 15,
   "id": "148f89a7",
   "metadata": {},
   "outputs": [
    {
     "name": "stdout",
     "output_type": "stream",
     "text": [
      "['Simant', 12]\n"
     ]
    }
   ],
   "source": [
    "lst1 = ['Simant',12]\n",
    "print(lst1)"
   ]
  },
  {
   "cell_type": "code",
   "execution_count": 16,
   "id": "9eac4dd6",
   "metadata": {},
   "outputs": [
    {
     "name": "stdout",
     "output_type": "stream",
     "text": [
      "1 validation error for Classroom\n",
      "students.1\n",
      "  Input should be a valid string [type=string_type, input_value=123, input_type=int]\n",
      "    For further information visit https://errors.pydantic.dev/2.11/v/string_type\n"
     ]
    }
   ],
   "source": [
    "try:\n",
    "    invalid_val=Classroom(room_number=\"A1\",students=[\"Krish\",123],capacity=30)\n",
    "except ValueError as e:\n",
    "    print(e)"
   ]
  },
  {
   "cell_type": "markdown",
   "id": "94f8ae1e",
   "metadata": {},
   "source": [
    "#### 4. Model with Nested Models\n",
    "Create complex structures with nested models:\n",
    "\n"
   ]
  },
  {
   "cell_type": "code",
   "execution_count": 17,
   "id": "5f0d86d3",
   "metadata": {},
   "outputs": [],
   "source": [
    "class Address(BaseModel):\n",
    "    house_no : int\n",
    "    location : str\n",
    "    city : str\n",
    "\n",
    "class Customer(BaseModel):\n",
    "    id : int\n",
    "    name : str\n",
    "    address : Address"
   ]
  },
  {
   "cell_type": "code",
   "execution_count": 18,
   "id": "7c1ae1ec",
   "metadata": {},
   "outputs": [
    {
     "name": "stdout",
     "output_type": "stream",
     "text": [
      "id=1 name='Simant' address=Address(house_no=123, location='Manhattan', city='New York')\n"
     ]
    }
   ],
   "source": [
    "cus1 = Customer(\n",
    "    id = 1,\n",
    "    name = \"Simant\",\n",
    "    address = Address(\n",
    "        house_no = 123,\n",
    "        location = \"Manhattan\",\n",
    "        city = \"New York\"\n",
    "    )\n",
    ")\n",
    "\n",
    "print(cus1)"
   ]
  },
  {
   "cell_type": "markdown",
   "id": "d7a2aaba",
   "metadata": {},
   "source": [
    "#### Pydantic Fields: Customization and Constraints\n",
    "\n",
    "The Field function in Pydantic enhances model fields beyond basic type hints by allowing you to specify validation rules, default values, aliases, and more. Here's a comprehensive tutorial with examples."
   ]
  },
  {
   "cell_type": "code",
   "execution_count": 19,
   "id": "9764e21b",
   "metadata": {},
   "outputs": [],
   "source": [
    "from pydantic import Field\n",
    "from datetime import datetime"
   ]
  },
  {
   "cell_type": "code",
   "execution_count": 20,
   "id": "d2711a62",
   "metadata": {},
   "outputs": [],
   "source": [
    "class User(BaseModel):\n",
    "    name: str=Field(min_length=3,max_length=50)\n",
    "    mobile: str=Field(pattern=r\"^\\d{10}$\")\n",
    "    age: int=Field(gt=18,lt=100,default=18,description=\"Age must be between 18 and 100\")\n",
    "    email: str=Field(pattern=r\"^[a-zA-Z0-9._%+-]+@[a-zA-Z0-9.-]+\\.[a-zA-Z]{2,}$\")\n",
    "    password: str=Field(min_length=8,max_length=16,description=\"Password must be between 8 and 16 characters\")\n",
    "    is_active: bool=Field(default=True,description=\"Is active must be a boolean\")\n",
    "    created_at: datetime=Field(default_factory=datetime.now,description=\"Created at must be a datetime\")"
   ]
  },
  {
   "cell_type": "code",
   "execution_count": 21,
   "id": "7e5988c9",
   "metadata": {},
   "outputs": [
    {
     "name": "stdout",
     "output_type": "stream",
     "text": [
      "name='Simant' mobile='1234567890' age=20 email='simant@gmail.com' password='1234567890' is_active=True created_at=datetime.datetime(2025, 7, 18, 11, 9, 5, 679978)\n"
     ]
    }
   ],
   "source": [
    "user1 = User(name=\"Simant\",mobile=\"1234567890\",age=20,email=\"simant@gmail.com\",password=\"1234567890\",is_active=True,created_at=datetime.now())\n",
    "print(user1)"
   ]
  },
  {
   "cell_type": "code",
   "execution_count": 22,
   "id": "a7a8ad43",
   "metadata": {},
   "outputs": [
    {
     "name": "stdout",
     "output_type": "stream",
     "text": [
      "name='Simant' mobile='1234567890' age=18 email='simant@gmail.com' password='1234567890' is_active=True created_at=datetime.datetime(2025, 7, 18, 11, 9, 6, 307134)\n"
     ]
    }
   ],
   "source": [
    "user2 = User(name=\"Simant\",mobile=\"1234567890\",email=\"simant@gmail.com\",password=\"1234567890\")\n",
    "print(user2)"
   ]
  },
  {
   "cell_type": "code",
   "execution_count": 23,
   "id": "46b88899",
   "metadata": {},
   "outputs": [
    {
     "data": {
      "text/plain": [
       "{'properties': {'name': {'maxLength': 50,\n",
       "   'minLength': 3,\n",
       "   'title': 'Name',\n",
       "   'type': 'string'},\n",
       "  'mobile': {'pattern': '^\\\\d{10}$', 'title': 'Mobile', 'type': 'string'},\n",
       "  'age': {'default': 18,\n",
       "   'description': 'Age must be between 18 and 100',\n",
       "   'exclusiveMaximum': 100,\n",
       "   'exclusiveMinimum': 18,\n",
       "   'title': 'Age',\n",
       "   'type': 'integer'},\n",
       "  'email': {'pattern': '^[a-zA-Z0-9._%+-]+@[a-zA-Z0-9.-]+\\\\.[a-zA-Z]{2,}$',\n",
       "   'title': 'Email',\n",
       "   'type': 'string'},\n",
       "  'password': {'description': 'Password must be between 8 and 16 characters',\n",
       "   'maxLength': 16,\n",
       "   'minLength': 8,\n",
       "   'title': 'Password',\n",
       "   'type': 'string'},\n",
       "  'is_active': {'default': True,\n",
       "   'description': 'Is active must be a boolean',\n",
       "   'title': 'Is Active',\n",
       "   'type': 'boolean'},\n",
       "  'created_at': {'description': 'Created at must be a datetime',\n",
       "   'format': 'date-time',\n",
       "   'title': 'Created At',\n",
       "   'type': 'string'}},\n",
       " 'required': ['name', 'mobile', 'email', 'password'],\n",
       " 'title': 'User',\n",
       " 'type': 'object'}"
      ]
     },
     "execution_count": 23,
     "metadata": {},
     "output_type": "execute_result"
    }
   ],
   "source": [
    "User.model_json_schema()"
   ]
  },
  {
   "cell_type": "code",
   "execution_count": null,
   "id": "8101c63b",
   "metadata": {},
   "outputs": [],
   "source": []
  }
 ],
 "metadata": {
  "kernelspec": {
   "display_name": "agentic",
   "language": "python",
   "name": "python3"
  },
  "language_info": {
   "codemirror_mode": {
    "name": "ipython",
    "version": 3
   },
   "file_extension": ".py",
   "mimetype": "text/x-python",
   "name": "python",
   "nbconvert_exporter": "python",
   "pygments_lexer": "ipython3",
   "version": "3.12.9"
  }
 },
 "nbformat": 4,
 "nbformat_minor": 5
}
