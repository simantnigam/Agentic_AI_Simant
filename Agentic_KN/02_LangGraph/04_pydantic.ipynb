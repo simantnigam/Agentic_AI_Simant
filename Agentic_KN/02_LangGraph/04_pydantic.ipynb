{
 "cells": [
  {
   "cell_type": "code",
   "execution_count": 13,
   "id": "88fd3ec6",
   "metadata": {},
   "outputs": [],
   "source": [
    "from pydantic import BaseModel\n",
    "from typing import Literal\n",
    "from datetime import datetime\n",
    "from langgraph.graph import StateGraph, START,END\n",
    "from IPython.display import display, Image\n",
    "import random"
   ]
  },
  {
   "cell_type": "code",
   "execution_count": 8,
   "id": "3154c126",
   "metadata": {},
   "outputs": [],
   "source": [
    "class PydanticState(BaseModel):\n",
    "    \"\"\"\n",
    "    Pydantic model for the state of the graph.\n",
    "    \"\"\"\n",
    "    name: str\n",
    "    game: Literal[\"cricket\", \"badminton\"] = \"cricket\"\n",
    "    timestamp: datetime = datetime.now()"
   ]
  },
  {
   "cell_type": "code",
   "execution_count": 9,
   "id": "1fc0ffae",
   "metadata": {},
   "outputs": [],
   "source": [
    "def play_game(state: PydanticState):\n",
    "    print(\"-------------play game node called------------\")\n",
    "    return {\"name\": state.name + \" wants to play\"}\n",
    "\n",
    "def play_cricket(state: PydanticState):\n",
    "    print(\"-------------play cricket node called------------\")\n",
    "    return {\"name\": state.name + \" cricket\", \"game\": \"cricket\"}\n",
    "\n",
    "def play_badminton(state: PydanticState):\n",
    "    print(\"-------------play badminton node called------------\")\n",
    "    return {\"name\": state.name + \" badminton\",\"game\": \"badminton\"}"
   ]
  },
  {
   "cell_type": "code",
   "execution_count": 10,
   "id": "da66a755",
   "metadata": {},
   "outputs": [],
   "source": [
    "def decide_play(state : PydanticState) -> Literal[\"play_cricket\", \"play_badminton\"]:\n",
    "    print(\"-------------decide play node called------------\")\n",
    "    if random.choice([True, False]):\n",
    "        return \"play_cricket\"\n",
    "    else:\n",
    "        return \"play_badminton\""
   ]
  },
  {
   "cell_type": "code",
   "execution_count": 11,
   "id": "09eb2f30",
   "metadata": {},
   "outputs": [
    {
     "data": {
      "image/png": "[encoded data removed]",
      "text/plain": [
       "<IPython.core.display.Image object>"
      ]
     },
     "metadata": {},
     "output_type": "display_data"
    }
   ],
   "source": [
    "graph = StateGraph(PydanticState)\n",
    "\n",
    "graph.add_node(\"playgame\", play_game)\n",
    "graph.add_node(\"play_cricket\", play_cricket)\n",
    "graph.add_node(\"play_badminton\", play_badminton)\n",
    "\n",
    "\n",
    "# Add edges between nodes\n",
    "graph.add_edge(START, \"playgame\")\n",
    "graph.add_conditional_edges(\"playgame\",decide_play)\n",
    "graph.add_edge(\"play_cricket\", END)\n",
    "graph.add_edge(\"play_badminton\", END)\n",
    "\n",
    "graph_build = graph.compile()\n",
    "\n",
    "\n",
    "display(Image(graph_build.get_graph().draw_mermaid_png()))"
   ]
  },
  {
   "cell_type": "code",
   "execution_count": 28,
   "id": "22eccc49",
   "metadata": {},
   "outputs": [
    {
     "name": "stdout",
     "output_type": "stream",
     "text": [
      "-------------play game node called------------\n",
      "-------------decide play node called------------\n",
      "-------------play cricket node called------------\n"
     ]
    },
    {
     "data": {
      "text/plain": [
       "{'name': 'Simant wants to play cricket',\n",
       " 'game': 'cricket',\n",
       " 'timestamp': datetime.datetime(2025, 7, 21, 13, 18, 3, 49771)}"
      ]
     },
     "execution_count": 28,
     "metadata": {},
     "output_type": "execute_result"
    }
   ],
   "source": [
    "graph_build.invoke(PydanticState(name=\"Simant\",timestamp=datetime.now()))"
   ]
  },
  {
   "cell_type": "code",
   "execution_count": 32,
   "id": "086a26bf",
   "metadata": {},
   "outputs": [
    {
     "ename": "ValidationError",
     "evalue": "1 validation error for PydanticState\nname\n  Input should be a valid string [type=string_type, input_value=123, input_type=int]\n    For further information visit https://errors.pydantic.dev/2.11/v/string_type",
     "output_type": "error",
     "traceback": [
      "\u001b[31m---------------------------------------------------------------------------\u001b[39m",
      "\u001b[31mValidationError\u001b[39m                           Traceback (most recent call last)",
      "\u001b[36mCell\u001b[39m\u001b[36m \u001b[39m\u001b[32mIn[32]\u001b[39m\u001b[32m, line 5\u001b[39m\n\u001b[32m      1\u001b[39m \u001b[38;5;66;03m#pydantic also supports validation and serialization, making it a powerful tool for managing state in complex applications.\u001b[39;00m\n\u001b[32m      2\u001b[39m \n\u001b[32m      3\u001b[39m \u001b[38;5;66;03m# You can also use Pydantic's features to validate the state before invoking the graph\u001b[39;00m\n\u001b[32m      4\u001b[39m \u001b[38;5;66;03m# For example, you can ensure that the name is not empty and the game is one of the allowed values\u001b[39;00m\n\u001b[32m----> \u001b[39m\u001b[32m5\u001b[39m state = \u001b[43mPydanticState\u001b[49m\u001b[43m(\u001b[49m\u001b[43mname\u001b[49m\u001b[43m=\u001b[49m\u001b[32;43m123\u001b[39;49m\u001b[43m,\u001b[49m\u001b[43m \u001b[49m\u001b[43mtimestamp\u001b[49m\u001b[43m=\u001b[49m\u001b[43mdatetime\u001b[49m\u001b[43m.\u001b[49m\u001b[43mnow\u001b[49m\u001b[43m(\u001b[49m\u001b[43m)\u001b[49m\u001b[43m)\u001b[49m\n\u001b[32m      6\u001b[39m graph_build.invoke(state)\n",
      "\u001b[36mFile \u001b[39m\u001b[32mc:\\Users\\siman\\PythonProjects\\Agentic_AI_Simant\\agentic\\Lib\\site-packages\\pydantic\\main.py:253\u001b[39m, in \u001b[36mBaseModel.__init__\u001b[39m\u001b[34m(self, **data)\u001b[39m\n\u001b[32m    251\u001b[39m \u001b[38;5;66;03m# `__tracebackhide__` tells pytest and some other tools to omit this function from tracebacks\u001b[39;00m\n\u001b[32m    252\u001b[39m __tracebackhide__ = \u001b[38;5;28;01mTrue\u001b[39;00m\n\u001b[32m--> \u001b[39m\u001b[32m253\u001b[39m validated_self = \u001b[38;5;28;43mself\u001b[39;49m\u001b[43m.\u001b[49m\u001b[43m__pydantic_validator__\u001b[49m\u001b[43m.\u001b[49m\u001b[43mvalidate_python\u001b[49m\u001b[43m(\u001b[49m\u001b[43mdata\u001b[49m\u001b[43m,\u001b[49m\u001b[43m \u001b[49m\u001b[43mself_instance\u001b[49m\u001b[43m=\u001b[49m\u001b[38;5;28;43mself\u001b[39;49m\u001b[43m)\u001b[49m\n\u001b[32m    254\u001b[39m \u001b[38;5;28;01mif\u001b[39;00m \u001b[38;5;28mself\u001b[39m \u001b[38;5;129;01mis\u001b[39;00m \u001b[38;5;129;01mnot\u001b[39;00m validated_self:\n\u001b[32m    255\u001b[39m     warnings.warn(\n\u001b[32m    256\u001b[39m         \u001b[33m'\u001b[39m\u001b[33mA custom validator is returning a value other than `self`.\u001b[39m\u001b[38;5;130;01m\\n\u001b[39;00m\u001b[33m'\u001b[39m\n\u001b[32m    257\u001b[39m         \u001b[33m\"\u001b[39m\u001b[33mReturning anything other than `self` from a top level model validator isn\u001b[39m\u001b[33m'\u001b[39m\u001b[33mt supported when validating via `__init__`.\u001b[39m\u001b[38;5;130;01m\\n\u001b[39;00m\u001b[33m\"\u001b[39m\n\u001b[32m    258\u001b[39m         \u001b[33m'\u001b[39m\u001b[33mSee the `model_validator` docs (https://docs.pydantic.dev/latest/concepts/validators/#model-validators) for more details.\u001b[39m\u001b[33m'\u001b[39m,\n\u001b[32m    259\u001b[39m         stacklevel=\u001b[32m2\u001b[39m,\n\u001b[32m    260\u001b[39m     )\n",
      "\u001b[31mValidationError\u001b[39m: 1 validation error for PydanticState\nname\n  Input should be a valid string [type=string_type, input_value=123, input_type=int]\n    For further information visit https://errors.pydantic.dev/2.11/v/string_type"
     ]
    }
   ],
   "source": [
    "#pydantic also supports validation and serialization, making it a powerful tool for managing state in complex applications.\n",
    "\n",
    "# You can also use Pydantic's features to validate the state before invoking the graph\n",
    "# For example, you can ensure that the name is not empty and the game is one of the allowed values\n",
    "state = PydanticState(name=123, timestamp=datetime.now())\n",
    "graph_build.invoke(state)"
   ]
  },
  {
   "cell_type": "code",
   "execution_count": null,
   "id": "1ff90195",
   "metadata": {},
   "outputs": [],
   "source": []
  }
 ],
 "metadata": {
  "kernelspec": {
   "display_name": "agentic",
   "language": "python",
   "name": "python3"
  },
  "language_info": {
   "codemirror_mode": {
    "name": "ipython",
    "version": 3
   },
   "file_extension": ".py",
   "mimetype": "text/x-python",
   "name": "python",
   "nbconvert_exporter": "python",
   "pygments_lexer": "ipython3",
   "version": "3.12.9"
  }
 },
 "nbformat": 4,
 "nbformat_minor": 5
}
