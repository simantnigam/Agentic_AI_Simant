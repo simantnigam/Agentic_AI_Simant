{
 "cells": [
  {
   "cell_type": "markdown",
   "id": "7ee680b4",
   "metadata": {},
   "source": [
    "#### Chains using LangGraph\n",
    "\n",
    "* How to use chat messages as graph state\n",
    "* how to use chat models as graph nodes\n",
    "* how to bind tools to chat models(LLMs)\n",
    "* how to execute tools in graph nodes"
   ]
  },
  {
   "cell_type": "code",
   "execution_count": 52,
   "id": "2ed1a769",
   "metadata": {},
   "outputs": [],
   "source": [
    "from dotenv import load_dotenv\n",
    "import os\n",
    "from IPython.display import display,Markdown,Image\n",
    "load_dotenv(override=True)\n",
    "\n",
    "os.environ[\"OPENAI_API_KEY\"] = os.getenv(\"OPENAI_API_KEY\")\n",
    "os.environ[\"GROQ_API_KEY\"] = os.getenv(\"GROQ_API_KEY\")"
   ]
  },
  {
   "cell_type": "markdown",
   "id": "6681e379",
   "metadata": {},
   "source": [
    "#### Chat Messages"
   ]
  },
  {
   "cell_type": "code",
   "execution_count": 33,
   "id": "ba796d37",
   "metadata": {},
   "outputs": [],
   "source": [
    "from langchain_core.messages import AIMessage, HumanMessage, SystemMessage, AnyMessage\n",
    "from pprint import pprint"
   ]
  },
  {
   "cell_type": "code",
   "execution_count": 7,
   "id": "910ccd13",
   "metadata": {},
   "outputs": [],
   "source": [
    "messages = [\n",
    "    SystemMessage(content=\"You are a helpful assistant.\"),\n",
    "    AIMessage(content=\"How may I assist you today?\",name=\"Assistant\")\n",
    "]"
   ]
  },
  {
   "cell_type": "code",
   "execution_count": 8,
   "id": "fe5dec2b",
   "metadata": {},
   "outputs": [],
   "source": [
    "messages.append(HumanMessage(content=\"I want to learn coding\",name=\"User\"))"
   ]
  },
  {
   "cell_type": "code",
   "execution_count": 9,
   "metadata": {},
   "outputs": [],
   "source": [
    "messages.append(AIMessage(content=\"Sure! What programming language are you interested in?\",name=\"Assistant\"))"
   ]
  },
  {
   "cell_type": "code",
   "execution_count": 13,
   "id": "5ccc6dd7",
   "metadata": {},
   "outputs": [],
   "source": [
    "messages.append(HumanMessage(content=\"I am interested in Python\",name=\"User\"))"
   ]
  },
  {
   "cell_type": "code",
   "execution_count": 14,
   "id": "903b10c3",
   "metadata": {},
   "outputs": [
    {
     "name": "stdout",
     "output_type": "stream",
     "text": [
      "================================\u001b[1m System Message \u001b[0m================================\n",
      "\n",
      "You are a helpful assistant.\n",
      "==================================\u001b[1m Ai Message \u001b[0m==================================\n",
      "Name: Assistant\n",
      "\n",
      "How may I assist you today?\n",
      "================================\u001b[1m Human Message \u001b[0m=================================\n",
      "Name: User\n",
      "\n",
      "I want to learn coding\n",
      "==================================\u001b[1m Ai Message \u001b[0m==================================\n",
      "Name: Assistant\n",
      "\n",
      "Sure! What programming language are you interested in?\n",
      "================================\u001b[1m Human Message \u001b[0m=================================\n",
      "Name: User\n",
      "\n",
      "I am interested in Python\n"
     ]
    }
   ],
   "source": [
    "for message in messages:\n",
    "    message.pretty_print()"
   ]
  },
  {
   "cell_type": "markdown",
   "id": "078d1de6",
   "metadata": {},
   "source": [
    "#### Chat Models"
   ]
  },
  {
   "cell_type": "code",
   "execution_count": 12,
   "id": "2eca06fb",
   "metadata": {},
   "outputs": [],
   "source": [
    "from langchain_openai import ChatOpenAI\n",
    "from langchain_groq import ChatGroq\n",
    "\n",
    "chat_model_openai = ChatOpenAI(model=\"gpt-4o-mini\")\n",
    "chat_model_groq = ChatGroq(model=\"llama-3.1-8b-instant\")"
   ]
  },
  {
   "cell_type": "code",
   "execution_count": 15,
   "id": "7b8966f8",
   "metadata": {},
   "outputs": [],
   "source": [
    "response_openai = chat_model_openai.invoke(messages)\n",
    "response_groq = chat_model_groq.invoke(messages)"
   ]
  },
  {
   "cell_type": "code",
   "execution_count": 16,
   "id": "4a4ac2bb",
   "metadata": {},
   "outputs": [
    {
     "data": {
      "text/plain": [
       "{'token_usage': {'completion_tokens': 594,\n",
       "  'prompt_tokens': 64,\n",
       "  'total_tokens': 658,\n",
       "  'completion_tokens_details': {'accepted_prediction_tokens': 0,\n",
       "   'audio_tokens': 0,\n",
       "   'reasoning_tokens': 0,\n",
       "   'rejected_prediction_tokens': 0},\n",
       "  'prompt_tokens_details': {'audio_tokens': 0, 'cached_tokens': 0}},\n",
       " 'model_name': 'gpt-4o-mini-2024-07-18',\n",
       " 'system_fingerprint': None,\n",
       " 'id': 'chatcmpl-BvhA5Ic9ATsAXYd5eM3kL86Ef6SUT',\n",
       " 'service_tier': 'default',\n",
       " 'finish_reason': 'stop',\n",
       " 'logprobs': None}"
      ]
     },
     "execution_count": 16,
     "metadata": {},
     "output_type": "execute_result"
    }
   ],
   "source": [
    "response_openai.response_metadata"
   ]
  },
  {
   "cell_type": "code",
   "execution_count": 17,
   "id": "b1456723",
   "metadata": {},
   "outputs": [
    {
     "data": {
      "text/plain": [
       "{'token_usage': {'completion_tokens': 381,\n",
       "  'prompt_tokens': 83,\n",
       "  'total_tokens': 464,\n",
       "  'completion_time': 0.508,\n",
       "  'prompt_time': 0.004865753,\n",
       "  'queue_time': 0.049068126999999996,\n",
       "  'total_time': 0.512865753},\n",
       " 'model_name': 'llama-3.1-8b-instant',\n",
       " 'system_fingerprint': 'fp_c523237e5d',\n",
       " 'finish_reason': 'stop',\n",
       " 'logprobs': None}"
      ]
     },
     "execution_count": 17,
     "metadata": {},
     "output_type": "execute_result"
    }
   ],
   "source": [
    "response_groq.response_metadata"
   ]
  },
  {
   "cell_type": "code",
   "execution_count": 22,
   "id": "0f2fb3db",
   "metadata": {},
   "outputs": [
    {
     "name": "stdout",
     "output_type": "stream",
     "text": [
      "Great choice! Python is a versatile and beginner-friendly programming language. Here’s a simple roadmap to help you get started:\n",
      "\n",
      "### 1. **Set Up Your Environment**\n",
      "   - **Install Python**: Download and install Python from the official website: [python.org](https://www.python.org/).\n",
      "   - **Code Editor**: Choose a code editor or Integrated Development Environment (IDE). Popular choices include:\n",
      "     - Visual Studio Code (VSCode)\n",
      "     - PyCharm (Community Edition is free)\n",
      "     - Jupyter Notebook (great for data science)\n",
      "\n",
      "### 2. **Learn the Basics**\n",
      "   Start with understanding the fundamental concepts:\n",
      "   - **Syntax**: How to write Python code.\n",
      "   - **Variables**: Storing data.\n",
      "   - **Data Types**: Numbers, strings, lists, dictionaries, etc.\n",
      "   - **Control Structures**: If statements, loops (for and while).\n",
      "   - **Functions**: Defining and calling functions.\n",
      "   \n",
      "   **Resources**: \n",
      "   - [Official Python Tutorial](https://docs.python.org/3/tutorial/index.html)\n",
      "   - Online platforms like Codecademy, freeCodeCamp, or Coursera.\n",
      "\n",
      "### 3. **Practice Coding**\n",
      "   - Solve problems on platforms like:\n",
      "     - LeetCode\n",
      "     - HackerRank\n",
      "     - Codewars\n",
      "\n",
      "### 4. **Learn About Libraries and Frameworks**\n",
      "   Depending on your interests, explore libraries and frameworks:\n",
      "   - **Web Development**: Flask, Django\n",
      "   - **Data Analysis**: Pandas, NumPy\n",
      "   - **Machine Learning**: Scikit-learn, TensorFlow, PyTorch\n",
      "   - **Web Scraping**: BeautifulSoup, Scrapy\n",
      "\n",
      "### 5. **Build Projects**\n",
      "   Start building small projects to apply what you've learned. Ideas include:\n",
      "   - A simple calculator\n",
      "   - A to-do list application\n",
      "   - A web scraper\n",
      "   - A personal blog using Flask or Django\n",
      "\n",
      "### 6. **Join a Community**\n",
      "   Engage with others by joining Python communities:\n",
      "   - [Python Reddit](https://www.reddit.com/r/Python)\n",
      "   - Stack Overflow for getting help with specific issues\n",
      "   - Local meetups or coding groups\n",
      "\n",
      "### 7. **Keep Learning**\n",
      "   As you advance, continuously expand your skills by learning advanced topics like:\n",
      "   - Object-Oriented Programming (OOP)\n",
      "   - APIs and RESTful services\n",
      "   - Testing and debugging\n",
      "   - Version control using Git\n",
      "\n",
      "### Additional Resources\n",
      "- **Books**: \n",
      "  - \"Automate the Boring Stuff with Python\" by Al Sweigart\n",
      "  - \"Python Crash Course\" by Eric Matthes\n",
      "\n",
      "- **Online Courses**:\n",
      "  - Coursera: \"Python for Everybody\"\n",
      "  - Udemy: \"Complete Python Bootcamp\"\n",
      "\n",
      "Feel free to ask if you have specific questions or need guidance on a particular topic!\n"
     ]
    }
   ],
   "source": [
    "print(response_openai.content)"
   ]
  },
  {
   "cell_type": "code",
   "execution_count": 23,
   "id": "e847174a",
   "metadata": {},
   "outputs": [
    {
     "name": "stdout",
     "output_type": "stream",
     "text": [
      "Python is a popular and versatile language, great for beginners and experienced developers alike.\n",
      "\n",
      "Here's a step-by-step guide to get you started:\n",
      "\n",
      "1. **Install Python**: Download and install the latest version of Python from the official Python website ([www.python.org](http://www.python.org)).\n",
      "2. **Choose a text editor or IDE**: You'll need a text editor or Integrated Development Environment (IDE) to write and run your code. Popular options include:\n",
      "\t* PyCharm (free community edition)\n",
      "\t* Visual Studio Code (free)\n",
      "\t* Sublime Text (free trial, subscription-based)\n",
      "\t* Notepad++ (free)\n",
      "3. **Learn the basics**: Start with basic syntax and data types, such as:\n",
      "\t* Variables (e.g., `x = 5`)\n",
      "\t* Data types (e.g., integers, strings, lists)\n",
      "\t* Control structures (e.g., if-else statements, loops)\n",
      "\t* Functions\n",
      "4. **Practice, practice, practice**: Try simple exercises and projects to get a feel for the language.\n",
      "5. **Online resources**:\n",
      "\t* Codecademy's Python course (interactive coding environment)\n",
      "\t* Python.org (official tutorials and documentation)\n",
      "\t* W3Schools' Python tutorial (easy-to-follow examples)\n",
      "\t* Stack Overflow (Q&A community for programmers)\n",
      "6. **Books and tutorials**: If you prefer learning from books or video tutorials, consider:\n",
      "\t* \"Python Crash Course\" by Eric Matthes\n",
      "\t* \"Automate the Boring Stuff with Python\" by Al Sweigart\n",
      "\t* Python tutorials on YouTube (e.g., Corey Schafer's Python Tutorials)\n",
      "\n",
      "Remember, learning a programming language takes time and practice. Be patient, and don't be afraid to ask for help when you get stuck.\n",
      "\n",
      "What specific area of Python would you like to focus on first?\n"
     ]
    }
   ],
   "source": [
    "print(response_groq.content)"
   ]
  },
  {
   "cell_type": "code",
   "execution_count": 27,
   "id": "2c4fbd53",
   "metadata": {},
   "outputs": [
    {
     "data": {
      "text/markdown": [
       "Great choice! Python is a versatile and beginner-friendly programming language. Here’s a simple roadmap to help you get started:\n",
       "\n",
       "### 1. **Set Up Your Environment**\n",
       "   - **Install Python**: Download and install Python from the official website: [python.org](https://www.python.org/).\n",
       "   - **Code Editor**: Choose a code editor or Integrated Development Environment (IDE). Popular choices include:\n",
       "     - Visual Studio Code (VSCode)\n",
       "     - PyCharm (Community Edition is free)\n",
       "     - Jupyter Notebook (great for data science)\n",
       "\n",
       "### 2. **Learn the Basics**\n",
       "   Start with understanding the fundamental concepts:\n",
       "   - **Syntax**: How to write Python code.\n",
       "   - **Variables**: Storing data.\n",
       "   - **Data Types**: Numbers, strings, lists, dictionaries, etc.\n",
       "   - **Control Structures**: If statements, loops (for and while).\n",
       "   - **Functions**: Defining and calling functions.\n",
       "   \n",
       "   **Resources**: \n",
       "   - [Official Python Tutorial](https://docs.python.org/3/tutorial/index.html)\n",
       "   - Online platforms like Codecademy, freeCodeCamp, or Coursera.\n",
       "\n",
       "### 3. **Practice Coding**\n",
       "   - Solve problems on platforms like:\n",
       "     - LeetCode\n",
       "     - HackerRank\n",
       "     - Codewars\n",
       "\n",
       "### 4. **Learn About Libraries and Frameworks**\n",
       "   Depending on your interests, explore libraries and frameworks:\n",
       "   - **Web Development**: Flask, Django\n",
       "   - **Data Analysis**: Pandas, NumPy\n",
       "   - **Machine Learning**: Scikit-learn, TensorFlow, PyTorch\n",
       "   - **Web Scraping**: BeautifulSoup, Scrapy\n",
       "\n",
       "### 5. **Build Projects**\n",
       "   Start building small projects to apply what you've learned. Ideas include:\n",
       "   - A simple calculator\n",
       "   - A to-do list application\n",
       "   - A web scraper\n",
       "   - A personal blog using Flask or Django\n",
       "\n",
       "### 6. **Join a Community**\n",
       "   Engage with others by joining Python communities:\n",
       "   - [Python Reddit](https://www.reddit.com/r/Python)\n",
       "   - Stack Overflow for getting help with specific issues\n",
       "   - Local meetups or coding groups\n",
       "\n",
       "### 7. **Keep Learning**\n",
       "   As you advance, continuously expand your skills by learning advanced topics like:\n",
       "   - Object-Oriented Programming (OOP)\n",
       "   - APIs and RESTful services\n",
       "   - Testing and debugging\n",
       "   - Version control using Git\n",
       "\n",
       "### Additional Resources\n",
       "- **Books**: \n",
       "  - \"Automate the Boring Stuff with Python\" by Al Sweigart\n",
       "  - \"Python Crash Course\" by Eric Matthes\n",
       "\n",
       "- **Online Courses**:\n",
       "  - Coursera: \"Python for Everybody\"\n",
       "  - Udemy: \"Complete Python Bootcamp\"\n",
       "\n",
       "Feel free to ask if you have specific questions or need guidance on a particular topic!"
      ],
      "text/plain": [
       "<IPython.core.display.Markdown object>"
      ]
     },
     "metadata": {},
     "output_type": "display_data"
    }
   ],
   "source": [
    "display(Markdown(response_openai.content))"
   ]
  },
  {
   "cell_type": "markdown",
   "id": "efe28518",
   "metadata": {},
   "source": [
    "### Tools\n",
    "Tools can be integrated with LLMs to interact with external systems or any knowledge bases"
   ]
  },
  {
   "cell_type": "code",
   "execution_count": 72,
   "id": "442694db",
   "metadata": {},
   "outputs": [],
   "source": [
    "# creating a tool to add two numbers\n",
    "from langchain_core.tools import tool\n",
    "@tool\n",
    "def add_numbers(a: int, b: int) -> int:\n",
    "    \"\"\"Adds two numbers together.\"\"\"\n",
    "    return a + b"
   ]
  },
  {
   "cell_type": "code",
   "execution_count": 73,
   "id": "bf3367bc",
   "metadata": {},
   "outputs": [],
   "source": [
    "# bind the tool to the chat model\n",
    "llm_with_tool = chat_model_openai.bind_tools([add_numbers])"
   ]
  },
  {
   "cell_type": "code",
   "execution_count": 74,
   "id": "ce584265",
   "metadata": {},
   "outputs": [
    {
     "data": {
      "text/plain": [
       "AIMessage(content='', additional_kwargs={'tool_calls': [{'id': 'call_BAORLsqKMA1qbkNi9OEw0oPk', 'function': {'arguments': '{\"a\":5,\"b\":10}', 'name': 'add_numbers'}, 'type': 'function'}], 'refusal': None}, response_metadata={'token_usage': {'completion_tokens': 18, 'prompt_tokens': 59, 'total_tokens': 77, 'completion_tokens_details': {'accepted_prediction_tokens': 0, 'audio_tokens': 0, 'reasoning_tokens': 0, 'rejected_prediction_tokens': 0}, 'prompt_tokens_details': {'audio_tokens': 0, 'cached_tokens': 0}}, 'model_name': 'gpt-4o-mini-2024-07-18', 'system_fingerprint': None, 'id': 'chatcmpl-BvkhXDsBCUvqT4IUa6ZkPRvuwtMdc', 'service_tier': 'default', 'finish_reason': 'tool_calls', 'logprobs': None}, id='run--a3b9380a-0536-433d-a407-4622fb9ccf88-0', tool_calls=[{'name': 'add_numbers', 'args': {'a': 5, 'b': 10}, 'id': 'call_BAORLsqKMA1qbkNi9OEw0oPk', 'type': 'tool_call'}], usage_metadata={'input_tokens': 59, 'output_tokens': 18, 'total_tokens': 77, 'input_token_details': {'audio': 0, 'cache_read': 0}, 'output_token_details': {'audio': 0, 'reasoning': 0}})"
      ]
     },
     "execution_count": 74,
     "metadata": {},
     "output_type": "execute_result"
    }
   ],
   "source": [
    "llm_with_tool.invoke([HumanMessage(content=\"What is the sum of 5 and 10?\", name=\"User\")])"
   ]
  },
  {
   "cell_type": "markdown",
   "id": "6bc55bb3",
   "metadata": {},
   "source": [
    "### Using Messages as State"
   ]
  },
  {
   "cell_type": "code",
   "execution_count": 75,
   "id": "8495930a",
   "metadata": {},
   "outputs": [],
   "source": [
    "from langgraph.graph.message import add_messages\n",
    "from typing import List,Annotated\n",
    "from typing_extensions import TypedDict"
   ]
  },
  {
   "cell_type": "code",
   "execution_count": 76,
   "id": "3176a665",
   "metadata": {},
   "outputs": [],
   "source": [
    "class MsgState(TypedDict):\n",
    "    messages: Annotated[List[AnyMessage], add_messages]"
   ]
  },
  {
   "cell_type": "code",
   "execution_count": 77,
   "id": "575ef2b0",
   "metadata": {},
   "outputs": [
    {
     "data": {
      "text/plain": [
       "[AIMessage(content='Hello, how can I help you?', additional_kwargs={}, response_metadata={}, name='Assistant'),\n",
       " HumanMessage(content='I need help with my homework.', additional_kwargs={}, response_metadata={}, name='User')]"
      ]
     },
     "execution_count": 77,
     "metadata": {},
     "output_type": "execute_result"
    }
   ],
   "source": [
    "## Reducers with Add Messages\n",
    "initial_messages = [AIMessage(content=\"Hello, how can I help you?\", name=\"Assistant\")]\n",
    "initial_messages.append(HumanMessage(content=\"I need help with my homework.\", name=\"User\"))\n",
    "initial_messages"
   ]
  },
  {
   "cell_type": "code",
   "execution_count": 78,
   "id": "b381430c",
   "metadata": {},
   "outputs": [
    {
     "data": {
      "text/plain": [
       "[AIMessage(content='Hello, how can I help you?', additional_kwargs={}, response_metadata={}, name='Assistant', id='1a50c414-b690-4c29-a27a-a78170c8e55d'),\n",
       " HumanMessage(content='I need help with my homework.', additional_kwargs={}, response_metadata={}, name='User', id='92283ebc-50e2-43f2-9ef2-9351b6c1dd51'),\n",
       " AIMessage(content='Sure! What subject do you need help with?', additional_kwargs={}, response_metadata={}, name='Assistant', id='af975eb6-b93b-49e4-95c2-ebc6ed9b6dd6')]"
      ]
     },
     "execution_count": 78,
     "metadata": {},
     "output_type": "execute_result"
    }
   ],
   "source": [
    "ai_message = AIMessage(content=\"Sure! What subject do you need help with?\", name=\"Assistant\")\n",
    "add_messages(initial_messages, ai_message)"
   ]
  },
  {
   "cell_type": "code",
   "execution_count": 68,
   "id": "e84ac15f",
   "metadata": {},
   "outputs": [],
   "source": [
    "# invoking tool through the node state(Chatbot node function)\n",
    "\n",
    "\n",
    "def llm_with_tool_invoke(state: MsgState):\n",
    "    \"\"\"Invoke the LLM with the tool.\"\"\"\n",
    "    response = llm_with_tool.invoke(state[\"messages\"])\n",
    "    return {\"messages\" : [response]}"
   ]
  },
  {
   "cell_type": "code",
   "execution_count": 69,
   "id": "4e03162e",
   "metadata": {},
   "outputs": [],
   "source": [
    "from langgraph.graph import StateGraph, START, END"
   ]
  },
  {
   "cell_type": "code",
   "execution_count": 71,
   "id": "ebd6583f",
   "metadata": {},
   "outputs": [
    {
     "data": {
      "image/png": "[encoded data removed]",
      "text/plain": [
       "<IPython.core.display.Image object>"
      ]
     },
     "metadata": {},
     "output_type": "display_data"
    }
   ],
   "source": [
    "builder = StateGraph(MsgState)\n",
    "\n",
    "builder.add_node(\"llm_tool\", llm_with_tool_invoke)\n",
    "\n",
    "builder.add_edge(START, \"llm_tool\")\n",
    "builder.add_edge(\"llm_tool\", END)\n",
    "\n",
    "graph = builder.compile()\n",
    "\n",
    "\n",
    "display(Image(graph.get_graph().draw_mermaid_png()))"
   ]
  },
  {
   "cell_type": "code",
   "execution_count": 79,
   "id": "58c9fa85",
   "metadata": {},
   "outputs": [],
   "source": [
    "messages = graph.invoke({\"messages\": \"What is the sum of 5 and 10?\"})"
   ]
  },
  {
   "cell_type": "code",
   "execution_count": 80,
   "id": "5e95d5c1",
   "metadata": {},
   "outputs": [
    {
     "data": {
      "text/plain": [
       "{'messages': [HumanMessage(content='What is the sum of 5 and 10?', additional_kwargs={}, response_metadata={}, id='7cb0085f-85b1-4695-a233-7d1be64e734f'),\n",
       "  AIMessage(content='', additional_kwargs={'tool_calls': [{'id': 'call_Qhakl77OhJZXk82ZLNXBlHOl', 'function': {'arguments': '{\"a\":5,\"b\":10}', 'name': 'add_numbers'}, 'type': 'function'}], 'refusal': None}, response_metadata={'token_usage': {'completion_tokens': 18, 'prompt_tokens': 57, 'total_tokens': 75, 'completion_tokens_details': {'accepted_prediction_tokens': 0, 'audio_tokens': 0, 'reasoning_tokens': 0, 'rejected_prediction_tokens': 0}, 'prompt_tokens_details': {'audio_tokens': 0, 'cached_tokens': 0}}, 'model_name': 'gpt-4o-mini-2024-07-18', 'system_fingerprint': None, 'id': 'chatcmpl-Bvkk8cuVBhH6PpfLNF68dcDOJQWAn', 'service_tier': 'default', 'finish_reason': 'tool_calls', 'logprobs': None}, id='run--507cf985-3b23-49c6-affa-4d71cfad94c6-0', tool_calls=[{'name': 'add_numbers', 'args': {'a': 5, 'b': 10}, 'id': 'call_Qhakl77OhJZXk82ZLNXBlHOl', 'type': 'tool_call'}], usage_metadata={'input_tokens': 57, 'output_tokens': 18, 'total_tokens': 75, 'input_token_details': {'audio': 0, 'cache_read': 0}, 'output_token_details': {'audio': 0, 'reasoning': 0}})]}"
      ]
     },
     "execution_count": 80,
     "metadata": {},
     "output_type": "execute_result"
    }
   ],
   "source": [
    "messages"
   ]
  },
  {
   "cell_type": "code",
   "execution_count": 82,
   "id": "959a3681",
   "metadata": {},
   "outputs": [
    {
     "name": "stdout",
     "output_type": "stream",
     "text": [
      "================================\u001b[1m Human Message \u001b[0m=================================\n",
      "\n",
      "What is the sum of 5 and 10?\n",
      "==================================\u001b[1m Ai Message \u001b[0m==================================\n",
      "Tool Calls:\n",
      "  add_numbers (call_Qhakl77OhJZXk82ZLNXBlHOl)\n",
      " Call ID: call_Qhakl77OhJZXk82ZLNXBlHOl\n",
      "  Args:\n",
      "    a: 5\n",
      "    b: 10\n"
     ]
    }
   ],
   "source": [
    "for message in messages['messages']:\n",
    "    message.pretty_print()"
   ]
  },
  {
   "cell_type": "code",
   "execution_count": 84,
   "id": "369e4bbd",
   "metadata": {},
   "outputs": [],
   "source": [
    "#Integrate tool node\n",
    "\n",
    "from langgraph.prebuilt import ToolNode,tools_condition"
   ]
  },
  {
   "cell_type": "code",
   "execution_count": 85,
   "id": "a36f3934",
   "metadata": {},
   "outputs": [],
   "source": [
    "tools = [add_numbers]"
   ]
  },
  {
   "cell_type": "code",
   "execution_count": 95,
   "id": "1bb40a8f",
   "metadata": {},
   "outputs": [
    {
     "data": {
      "image/png": "[encoded data removed]",
      "text/plain": [
       "<IPython.core.display.Image object>"
      ]
     },
     "metadata": {},
     "output_type": "display_data"
    }
   ],
   "source": [
    "builder = StateGraph(MsgState)\n",
    "\n",
    "builder.add_node(\"llm_tool\", llm_with_tool_invoke)\n",
    "builder.add_node(\"tools\", ToolNode(tools))\n",
    "\n",
    "\n",
    "builder.add_edge(START, \"llm_tool\")\n",
    "builder.add_conditional_edges(\n",
    "    \"llm_tool\",\n",
    "    # If the latest message (result) from assistant is a tool call -> tools_condition routes to tools\n",
    "    # If the latest message (result) from assistant is a not a tool call -> tools_condition routes to END\n",
    "    tools_condition\n",
    ")\n",
    "builder.add_edge(\"tools\", END)\n",
    "\n",
    "\n",
    "graph = builder.compile()\n",
    "\n",
    "display(Image(graph.get_graph().draw_mermaid_png()))"
   ]
  },
  {
   "cell_type": "code",
   "execution_count": 96,
   "id": "5d772db2",
   "metadata": {},
   "outputs": [
    {
     "name": "stdout",
     "output_type": "stream",
     "text": [
      "================================\u001b[1m Human Message \u001b[0m=================================\n",
      "\n",
      "What is 2 plus 2\n",
      "==================================\u001b[1m Ai Message \u001b[0m==================================\n",
      "Tool Calls:\n",
      "  add_numbers (call_JdSxQCKc0CNYt1ydFJE6MIsw)\n",
      " Call ID: call_JdSxQCKc0CNYt1ydFJE6MIsw\n",
      "  Args:\n",
      "    a: 2\n",
      "    b: 2\n",
      "=================================\u001b[1m Tool Message \u001b[0m=================================\n",
      "Name: add_numbers\n",
      "\n",
      "4\n"
     ]
    }
   ],
   "source": [
    "messages=graph.invoke({\"messages\":\"What is 2 plus 2\"})\n",
    "\n",
    "for message in messages[\"messages\"]:\n",
    "    message.pretty_print()"
   ]
  },
  {
   "cell_type": "code",
   "execution_count": 97,
   "id": "0d37302b",
   "metadata": {},
   "outputs": [
    {
     "name": "stdout",
     "output_type": "stream",
     "text": [
      "================================\u001b[1m Human Message \u001b[0m=================================\n",
      "\n",
      "What is AI\n",
      "==================================\u001b[1m Ai Message \u001b[0m==================================\n",
      "\n",
      "Artificial Intelligence (AI) refers to the simulation of human intelligence in machines that are programmed to think and learn like humans. It encompasses a wide range of technologies and concepts, including:\n",
      "\n",
      "1. **Machine Learning**: A subset of AI that involves the use of algorithms and statistical models to enable machines to improve their performance on tasks through experience.\n",
      "\n",
      "2. **Natural Language Processing (NLP)**: The ability of a machine to understand and interpret human language, enabling interactions through speech or text.\n",
      "\n",
      "3. **Computer Vision**: The capability of machines to interpret and make decisions based on visual data from the world, such as recognizing objects or processing images.\n",
      "\n",
      "4. **Robotics**: The integration of AI into robotic systems that can perform tasks autonomously or semi-autonomously.\n",
      "\n",
      "5. **Expert Systems**: AI systems that use knowledge and inference rules to solve specific problems within a certain domain.\n",
      "\n",
      "AI can be classified into two main types: narrow AI, which is designed for specific tasks (like voice assistants or recommendation systems), and general AI, which aims to replicate human cognitive abilities across a wide range of tasks, although this level of AI has not yet been achieved. \n",
      "\n",
      "Overall, AI has applications across various fields, including healthcare, finance, education, transportation, and entertainment, among others.\n"
     ]
    }
   ],
   "source": [
    "messages=graph.invoke({\"messages\":\"What is AI\"})\n",
    "\n",
    "for message in messages[\"messages\"]:\n",
    "    message.pretty_print()"
   ]
  },
  {
   "cell_type": "code",
   "execution_count": null,
   "id": "620ba8e3",
   "metadata": {},
   "outputs": [],
   "source": []
  },
  {
   "cell_type": "markdown",
   "id": "45487f86",
   "metadata": {},
   "source": [
    "# Practice from scratch"
   ]
  },
  {
   "cell_type": "code",
   "execution_count": 112,
   "id": "4807fb22",
   "metadata": {},
   "outputs": [],
   "source": [
    "from langchain_openai import ChatOpenAI\n",
    "from langchain_core.tools import tool\n",
    "from langchain_core.messages import AnyMessage, HumanMessage, AIMessage\n",
    "from langgraph.graph.message import add_messages\n",
    "from typing import List, Annotated\n",
    "from typing_extensions import TypedDict\n",
    "from langgraph.prebuilt import ToolNode, tools_condition\n",
    "from langgraph.graph import StateGraph, START, END\n",
    "from IPython.display import display, Markdown, Image\n",
    "import pprint"
   ]
  },
  {
   "cell_type": "code",
   "execution_count": 100,
   "id": "6f69d8db",
   "metadata": {},
   "outputs": [],
   "source": [
    "llm = ChatOpenAI(model=\"gpt-4o-mini\")"
   ]
  },
  {
   "cell_type": "code",
   "execution_count": 99,
   "id": "f8eb8680",
   "metadata": {},
   "outputs": [],
   "source": [
    "@tool\n",
    "def multiply_numbers(a: int, b: int) -> int:\n",
    "    \"\"\"Multiplies two numbers together.\"\"\"\n",
    "    return a * b"
   ]
  },
  {
   "cell_type": "code",
   "execution_count": 101,
   "id": "eb18b7cc",
   "metadata": {},
   "outputs": [],
   "source": [
    "llm_tool = llm.bind_tools([multiply_numbers])"
   ]
  },
  {
   "cell_type": "code",
   "execution_count": 102,
   "id": "6d3ea7e4",
   "metadata": {},
   "outputs": [],
   "source": [
    "#message state\n",
    "class MsgStateModel(TypedDict):\n",
    "    messages: Annotated[List[AnyMessage], add_messages]"
   ]
  },
  {
   "cell_type": "code",
   "execution_count": 103,
   "id": "f2ea53d8",
   "metadata": {},
   "outputs": [],
   "source": [
    "def llm_tool_node(state: MsgStateModel):\n",
    "    response  = llm_tool.invoke(state[\"messages\"])\n",
    "    return {\"messages\": [response]}"
   ]
  },
  {
   "cell_type": "code",
   "execution_count": 104,
   "id": "dfc378c7",
   "metadata": {},
   "outputs": [],
   "source": [
    "tools = [multiply_numbers]"
   ]
  },
  {
   "cell_type": "code",
   "execution_count": 105,
   "id": "ff043023",
   "metadata": {},
   "outputs": [
    {
     "data": {
      "image/png": "[encoded data removed]",
      "text/plain": [
       "<IPython.core.display.Image object>"
      ]
     },
     "metadata": {},
     "output_type": "display_data"
    }
   ],
   "source": [
    "builder = StateGraph(MsgStateModel)\n",
    "\n",
    "builder.add_node(\"llm_tool\", llm_tool_node)\n",
    "builder.add_node(\"tools\", ToolNode(tools))\n",
    "\n",
    "builder.add_edge(START, \"llm_tool\")\n",
    "builder.add_conditional_edges(\n",
    "    \"llm_tool\",\n",
    "    tools_condition\n",
    ")\n",
    "builder.add_edge(\"tools\", END)\n",
    "\n",
    "graph = builder.compile()\n",
    "\n",
    "\n",
    "display(Image(graph.get_graph().draw_mermaid_png()))"
   ]
  },
  {
   "cell_type": "code",
   "execution_count": 106,
   "id": "18b6c1f7",
   "metadata": {},
   "outputs": [
    {
     "data": {
      "text/plain": [
       "{'messages': [HumanMessage(content='What is AI', additional_kwargs={}, response_metadata={}, id='b64ec994-6bf4-428d-9bd5-c817e4754494'),\n",
       "  AIMessage(content='Artificial Intelligence (AI) refers to the simulation of human intelligence in machines programmed to think and learn like humans. AI can perform tasks that typically require human intelligence, such as understanding natural language, recognizing patterns, solving problems, and making decisions. \\n\\nThere are various types of AI, including:\\n\\n1. **Narrow AI** (or Weak AI): AI systems designed to perform a specific task (e.g., voice assistants, recommendation systems).\\n\\n2. **General AI** (or Strong AI): A theoretical form of AI that possesses the ability to understand, learn, and apply intelligence across a wide variety of tasks, similar to human cognitive abilities.\\n\\n3. **Machine Learning (ML)**: A subset of AI that employs algorithms to allow computers to learn from and make predictions based on data.\\n\\n4. **Deep Learning**: A specialized form of machine learning that uses neural networks with many layers to analyze various factors of data.\\n\\nAI encompasses a range of technologies and approaches from various fields, including computer science, cognitive science, philosophy, psychology, neuroscience, and information theory.', additional_kwargs={'refusal': None}, response_metadata={'token_usage': {'completion_tokens': 215, 'prompt_tokens': 51, 'total_tokens': 266, 'completion_tokens_details': {'accepted_prediction_tokens': 0, 'audio_tokens': 0, 'reasoning_tokens': 0, 'rejected_prediction_tokens': 0}, 'prompt_tokens_details': {'audio_tokens': 0, 'cached_tokens': 0}}, 'model_name': 'gpt-4o-mini-2024-07-18', 'system_fingerprint': None, 'id': 'chatcmpl-BvldfxWTbZVTGTPGwDCpU2IKqXIGU', 'service_tier': 'default', 'finish_reason': 'stop', 'logprobs': None}, id='run--eb7ad4c1-03b6-4b13-9c9f-1799aa14c4d7-0', usage_metadata={'input_tokens': 51, 'output_tokens': 215, 'total_tokens': 266, 'input_token_details': {'audio': 0, 'cache_read': 0}, 'output_token_details': {'audio': 0, 'reasoning': 0}})]}"
      ]
     },
     "execution_count": 106,
     "metadata": {},
     "output_type": "execute_result"
    }
   ],
   "source": [
    "graph.invoke({\"messages\":\"What is AI\"})"
   ]
  },
  {
   "cell_type": "code",
   "execution_count": 107,
   "id": "768d1f2e",
   "metadata": {},
   "outputs": [
    {
     "data": {
      "text/plain": [
       "{'messages': [HumanMessage(content='What is the product of 5 and 6?', additional_kwargs={}, response_metadata={}, id='3fb113ba-d341-45db-bfe2-76451f405075'),\n",
       "  AIMessage(content='', additional_kwargs={'tool_calls': [{'id': 'call_T4CAMdDCOA8lZUWL7Q9AbtWo', 'function': {'arguments': '{\"a\":5,\"b\":6}', 'name': 'multiply_numbers'}, 'type': 'function'}], 'refusal': None}, response_metadata={'token_usage': {'completion_tokens': 18, 'prompt_tokens': 59, 'total_tokens': 77, 'completion_tokens_details': {'accepted_prediction_tokens': 0, 'audio_tokens': 0, 'reasoning_tokens': 0, 'rejected_prediction_tokens': 0}, 'prompt_tokens_details': {'audio_tokens': 0, 'cached_tokens': 0}}, 'model_name': 'gpt-4o-mini-2024-07-18', 'system_fingerprint': None, 'id': 'chatcmpl-Bvle5yRgHWLcpJpSwO9lf0Ollqjcg', 'service_tier': 'default', 'finish_reason': 'tool_calls', 'logprobs': None}, id='run--6325389b-f999-4d03-a06a-7525a5194d5a-0', tool_calls=[{'name': 'multiply_numbers', 'args': {'a': 5, 'b': 6}, 'id': 'call_T4CAMdDCOA8lZUWL7Q9AbtWo', 'type': 'tool_call'}], usage_metadata={'input_tokens': 59, 'output_tokens': 18, 'total_tokens': 77, 'input_token_details': {'audio': 0, 'cache_read': 0}, 'output_token_details': {'audio': 0, 'reasoning': 0}}),\n",
       "  ToolMessage(content='30', name='multiply_numbers', id='639de9b9-d8bf-4475-97a0-8cfc0e104b35', tool_call_id='call_T4CAMdDCOA8lZUWL7Q9AbtWo')]}"
      ]
     },
     "execution_count": 107,
     "metadata": {},
     "output_type": "execute_result"
    }
   ],
   "source": [
    "graph.invoke({\"messages\":\"What is the product of 5 and 6?\"})"
   ]
  },
  {
   "cell_type": "code",
   "execution_count": 108,
   "id": "6f8c3ed3",
   "metadata": {},
   "outputs": [
    {
     "name": "stdout",
     "output_type": "stream",
     "text": [
      "================================\u001b[1m Human Message \u001b[0m=================================\n",
      "\n",
      "What is the product of 5 and 6?\n",
      "==================================\u001b[1m Ai Message \u001b[0m==================================\n",
      "Tool Calls:\n",
      "  multiply_numbers (call_5oBiR3sNWMZNLIL6xk5Rjxbi)\n",
      " Call ID: call_5oBiR3sNWMZNLIL6xk5Rjxbi\n",
      "  Args:\n",
      "    a: 5\n",
      "    b: 6\n",
      "=================================\u001b[1m Tool Message \u001b[0m=================================\n",
      "Name: multiply_numbers\n",
      "\n",
      "30\n"
     ]
    }
   ],
   "source": [
    "response = graph.invoke({\"messages\":\"What is the product of 5 and 6?\"})\n",
    "\n",
    "for message in response[\"messages\"]:\n",
    "    message.pretty_print()"
   ]
  },
  {
   "cell_type": "code",
   "execution_count": 109,
   "id": "cbf62fb1",
   "metadata": {},
   "outputs": [
    {
     "name": "stdout",
     "output_type": "stream",
     "text": [
      "================================\u001b[1m Human Message \u001b[0m=================================\n",
      "\n",
      "What is the capital of India?\n",
      "==================================\u001b[1m Ai Message \u001b[0m==================================\n",
      "\n",
      "The capital of India is New Delhi.\n"
     ]
    }
   ],
   "source": [
    "response = graph.invoke({\"messages\":\"What is the capital of India?\"})\n",
    "\n",
    "for message in response[\"messages\"]:\n",
    "    message.pretty_print()"
   ]
  },
  {
   "cell_type": "code",
   "execution_count": null,
   "id": "1cb71dcb",
   "metadata": {},
   "outputs": [],
   "source": []
  },
  {
   "cell_type": "code",
   "execution_count": null,
   "id": "a121bfe6",
   "metadata": {},
   "outputs": [],
   "source": []
  }
 ],
 "metadata": {
  "kernelspec": {
   "display_name": "agentic",
   "language": "python",
   "name": "python3"
  },
  "language_info": {
   "codemirror_mode": {
    "name": "ipython",
    "version": 3
   },
   "file_extension": ".py",
   "mimetype": "text/x-python",
   "name": "python",
   "nbconvert_exporter": "python",
   "pygments_lexer": "ipython3",
   "version": "3.12.9"
  }
 },
 "nbformat": 4,
 "nbformat_minor": 5
}
