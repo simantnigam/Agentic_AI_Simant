{
 "cells": [
  {
   "cell_type": "code",
   "execution_count": 4,
   "id": "00640f79",
   "metadata": {},
   "outputs": [],
   "source": [
    "import os\n",
    "from dotenv import load_dotenv\n",
    "\n",
    "load_dotenv(override=True)\n",
    "\n",
    "os.environ[\"OPENAI_API_KEY\"] = os.getenv(\"OPENAI_API_KEY\")\n",
    "os.environ[\"TAVILY_API_KEY\"]=os.getenv(\"TAVILY_API_KEY\")"
   ]
  },
  {
   "cell_type": "code",
   "execution_count": 5,
   "metadata": {},
   "outputs": [],
   "source": [
    "from pydantic import BaseModel\n",
    "from langchain_openai import ChatOpenAI\n",
    "from langchain_core.tools import tool\n",
    "from langchain_core.messages import AnyMessage, HumanMessage, AIMessage,SystemMessage\n",
    "from langgraph.graph.message import add_messages\n",
    "from typing import List, Annotated\n",
    "from typing_extensions import TypedDict\n",
    "from langgraph.prebuilt import ToolNode, tools_condition\n",
    "from langgraph.graph import StateGraph, START, END\n",
    "from IPython.display import display, Markdown, Image\n",
    "from pprint import pprint"
   ]
  },
  {
   "cell_type": "code",
   "execution_count": 8,
   "id": "6bc882b1",
   "metadata": {},
   "outputs": [],
   "source": [
    "from langchain_community.tools import WikipediaQueryRun,ArxivQueryRun\n",
    "from langchain_community.utilities import WikipediaAPIWrapper,ArxivAPIWrapper\n",
    "from langchain_tavily import TavilySearch"
   ]
  },
  {
   "cell_type": "markdown",
   "id": "dd868624",
   "metadata": {},
   "source": [
    "**Tavily**"
   ]
  },
  {
   "cell_type": "code",
   "execution_count": 9,
   "id": "ba9c4f95",
   "metadata": {},
   "outputs": [],
   "source": [
    "tavily = TavilySearch(max_results=5,topic=\"general\")"
   ]
  },
  {
   "cell_type": "code",
   "execution_count": 10,
   "id": "55c99a26",
   "metadata": {},
   "outputs": [
    {
     "data": {
      "text/plain": [
       "{'query': 'Latest new in India',\n",
       " 'follow_up_questions': None,\n",
       " 'answer': None,\n",
       " 'images': [],\n",
       " 'results': [{'url': 'https://indianexpress.com/',\n",
       "   'title': 'Latest News Today: Breaking News and Top Headlines from India ...',\n",
       "   'content': 'Latest News · 145 MPs across party lines submit motion in Parliament to impeach Justice Yashwant Varma · Delhi meat shops shut during Sawan despite no official',\n",
       "   'score': 0.6301622,\n",
       "   'raw_content': None},\n",
       "  {'url': 'https://www.ndtv.com/',\n",
       "   'title': \"NDTV.com: Get Latest News, India News, Breaking News, Today's ...\",\n",
       "   'content': \"NDTV.com provides latest news from India and around the world. Get breaking news alerts from India and follow today's live news updates in field of politics\",\n",
       "   'score': 0.5450684,\n",
       "   'raw_content': None},\n",
       "  {'url': 'https://www.cnn.com/world/india',\n",
       "   'title': 'India news - breaking news, video and headlines and opinion - CNN',\n",
       "   'content': \"Latest news · 'Aspirations of 1.4 billion': India celebrates as first International Space Station mission gets underway · Pakistan nominates Trump for Nobel\",\n",
       "   'score': 0.5402697,\n",
       "   'raw_content': None},\n",
       "  {'url': 'https://timesofindia.indiatimes.com/',\n",
       "   'title': 'News - Breaking News, Latest News, India News, World News ...',\n",
       "   'content': \"City · Runway scare: 3 tyres burst, engine damaged as Air India flight veers off course · Tamil Nadu CM Stalin hospitalised after sudden health scare; here's\",\n",
       "   'score': 0.5009527,\n",
       "   'raw_content': None},\n",
       "  {'url': 'https://www.bbc.com/news/world/asia/india',\n",
       "   'title': 'India | Latest News & Updates - BBC',\n",
       "   'content': \"Asia · China begins building world's largest dam, fuelling fears in India · India court acquits 12 men in Mumbai train bombings that killed 187 · Members only:\",\n",
       "   'score': 0.4687669,\n",
       "   'raw_content': None}],\n",
       " 'response_time': 1.05}"
      ]
     },
     "execution_count": 10,
     "metadata": {},
     "output_type": "execute_result"
    }
   ],
   "source": [
    "tavily.invoke(\"Latest new in India\")"
   ]
  },
  {
   "cell_type": "markdown",
   "id": "759511fd",
   "metadata": {},
   "source": [
    "**Wikipedia**"
   ]
  },
  {
   "cell_type": "code",
   "execution_count": 13,
   "id": "5d10ed70",
   "metadata": {},
   "outputs": [],
   "source": [
    "wiki_api = WikipediaAPIWrapper(top_k_results=1,doc_content_chars_max=1000)\n",
    "wiki = WikipediaQueryRun(api_wrapper=wiki_api)"
   ]
  },
  {
   "cell_type": "code",
   "execution_count": 14,
   "id": "bab1372c",
   "metadata": {},
   "outputs": [
    {
     "data": {
      "text/plain": [
       "'Page: Python (programming language)\\nSummary: Python is a high-level, general-purpose programming language. Its design philosophy emphasizes code readability with the use of significant indentation.\\nPython is dynamically type-checked and garbage-collected. It supports multiple programming paradigms, including structured (particularly procedural), object-oriented and functional programming.\\nGuido van Rossum began working on Python in the late 1980s as a successor to the ABC programming language, and he first released it in 1991 as Python 0.9.0. Python 2.0 was released in 2000. Python 3.0, released in 2008, was a major revision not completely backward-compatible with earlier versions. Python 2.7.18, released in 2020, was the last release of Python 2.\\nPython consistently ranks as one of the most popular programming languages, and it has gained widespread use in the machine learning community.\\n\\n'"
      ]
     },
     "execution_count": 14,
     "metadata": {},
     "output_type": "execute_result"
    }
   ],
   "source": [
    "wiki.invoke(\"Python programming language\")"
   ]
  },
  {
   "cell_type": "markdown",
   "id": "346b62f9",
   "metadata": {},
   "source": [
    "**Arxiv**"
   ]
  },
  {
   "cell_type": "code",
   "execution_count": 16,
   "id": "e282bd04",
   "metadata": {},
   "outputs": [],
   "source": [
    "arxiv_api = ArxivAPIWrapper(top_k_results=2,doc_content_chars_max=1000)\n",
    "arxiv = ArxivQueryRun(api_wrapper=arxiv_api)"
   ]
  },
  {
   "cell_type": "code",
   "execution_count": 17,
   "id": "179230af",
   "metadata": {},
   "outputs": [
    {
     "data": {
      "text/plain": [
       "\"Published: 2024-07-22\\nTitle: Attention Is All You Need But You Don't Need All Of It For Inference of Large Language Models\\nAuthors: Georgy Tyukin, Gbetondji J-S Dovonon, Jean Kaddour, Pasquale Minervini\\nSummary: The inference demand for LLMs has skyrocketed in recent months, and serving\\nmodels with low latencies remains challenging due to the quadratic input length\\ncomplexity of the attention layers. In this work, we investigate the effect of\\ndropping MLP and attention layers at inference time on the performance of\\nLlama-v2 models. We find that dropping dreeper attention layers only marginally\\ndecreases performance but leads to the best speedups alongside dropping entire\\nlayers. For example, removing 33\\\\% of attention layers in a 13B Llama2 model\\nresults in a 1.8\\\\% drop in average performance over the OpenLLM benchmark. We\\nalso observe that skipping layers except the latter layers reduces performances\\nfor more layers skipped, except for skipping the attention layers.\\n\\nPublished: 2021-0\""
      ]
     },
     "execution_count": 17,
     "metadata": {},
     "output_type": "execute_result"
    }
   ],
   "source": [
    "arxiv.invoke(\"Attention is all you need\")"
   ]
  },
  {
   "cell_type": "code",
   "execution_count": 18,
   "id": "4fb0d95f",
   "metadata": {},
   "outputs": [],
   "source": [
    "tools = [tavily, wiki, arxiv]"
   ]
  },
  {
   "cell_type": "code",
   "execution_count": 19,
   "metadata": {},
   "outputs": [
    {
     "data": {
      "text/plain": [
       "AIMessage(content='The capital of India is New Delhi.', additional_kwargs={'refusal': None}, response_metadata={'token_usage': {'completion_tokens': 8, 'prompt_tokens': 14, 'total_tokens': 22, 'completion_tokens_details': {'accepted_prediction_tokens': 0, 'audio_tokens': 0, 'reasoning_tokens': 0, 'rejected_prediction_tokens': 0}, 'prompt_tokens_details': {'audio_tokens': 0, 'cached_tokens': 0}}, 'model_name': 'gpt-4o-mini-2024-07-18', 'system_fingerprint': None, 'id': 'chatcmpl-BvoAIaXBwp4VDnn6ZvdjbRVZVAsSk', 'service_tier': 'default', 'finish_reason': 'stop', 'logprobs': None}, id='run--0bcf3608-ad35-4fc6-b1eb-505a6572387c-0', usage_metadata={'input_tokens': 14, 'output_tokens': 8, 'total_tokens': 22, 'input_token_details': {'audio': 0, 'cache_read': 0}, 'output_token_details': {'audio': 0, 'reasoning': 0}})"
      ]
     },
     "execution_count": 19,
     "metadata": {},
     "output_type": "execute_result"
    }
   ],
   "source": [
    "llm = ChatOpenAI(model=\"gpt-4o-mini\",max_tokens=1000)\n",
    "llm.invoke(\"What is the capital of India?\")"
   ]
  },
  {
   "cell_type": "code",
   "execution_count": 20,
   "id": "9db49cbd",
   "metadata": {},
   "outputs": [],
   "source": [
    "llm_tool = llm.bind_tools(tools)"
   ]
  },
  {
   "cell_type": "code",
   "execution_count": 21,
   "id": "7442aa58",
   "metadata": {},
   "outputs": [],
   "source": [
    "class MyState(TypedDict):\n",
    "    messages: Annotated[List[AnyMessage],add_messages]"
   ]
  },
  {
   "cell_type": "code",
   "execution_count": 22,
   "id": "6b55cb85",
   "metadata": {},
   "outputs": [],
   "source": [
    "def llm_tool_node(state: MyState):\n",
    "    response = llm_tool.invoke(state[\"messages\"])\n",
    "    return {\"messages\": [response]}"
   ]
  },
  {
   "cell_type": "code",
   "execution_count": 23,
   "id": "996e8f48",
   "metadata": {},
   "outputs": [
    {
     "data": {
      "image/png": "[encoded data removed]",
      "text/plain": [
       "<IPython.core.display.Image object>"
      ]
     },
     "metadata": {},
     "output_type": "display_data"
    }
   ],
   "source": [
    "builder = StateGraph(MyState)\n",
    "\n",
    "#node\n",
    "builder.add_node(\"llm_tool\", llm_tool_node)\n",
    "builder.add_node(\"tools\",ToolNode(tools))\n",
    "\n",
    "\n",
    "#edges\n",
    "builder.add_edge(START,\"llm_tool\")\n",
    "builder.add_conditional_edges(\n",
    "    \"llm_tool\",\n",
    "    tools_condition\n",
    ")\n",
    "builder.add_edge(\"tools\", END)\n",
    "\n",
    "\n",
    "graph = builder.compile()\n",
    "\n",
    "display(Image(graph.get_graph().draw_mermaid_png()))"
   ]
  },
  {
   "cell_type": "code",
   "execution_count": 27,
   "id": "327c2c22",
   "metadata": {},
   "outputs": [
    {
     "name": "stdout",
     "output_type": "stream",
     "text": [
      "================================\u001b[1m Human Message \u001b[0m=================================\n",
      "\n",
      "What is the capital of India?\n",
      "==================================\u001b[1m Ai Message \u001b[0m==================================\n",
      "Tool Calls:\n",
      "  wikipedia (call_TDBAdSTeSoFyhDAXAZNeLpHE)\n",
      " Call ID: call_TDBAdSTeSoFyhDAXAZNeLpHE\n",
      "  Args:\n",
      "    query: capital of India\n",
      "=================================\u001b[1m Tool Message \u001b[0m=================================\n",
      "Name: wikipedia\n",
      "\n",
      "Page: List of capitals of India\n",
      "Summary: This is a list of locations which have served as capital cities in India. The current capital city is New Delhi, which replaced Calcutta in 1911.\n",
      "\n",
      "\n"
     ]
    }
   ],
   "source": [
    "response = graph.invoke(\n",
    "    {\"messages\":HumanMessage(content=\"What is the capital of India?\")}\n",
    ")\n",
    "\n",
    "for message in response[\"messages\"]:\n",
    "    message.pretty_print()"
   ]
  },
  {
   "cell_type": "code",
   "execution_count": 28,
   "id": "9c1c58de",
   "metadata": {},
   "outputs": [
    {
     "name": "stdout",
     "output_type": "stream",
     "text": [
      "================================\u001b[1m Human Message \u001b[0m=================================\n",
      "\n",
      "Tom Cruise\n",
      "==================================\u001b[1m Ai Message \u001b[0m==================================\n",
      "Tool Calls:\n",
      "  wikipedia (call_VnLx5uy75voo7sGAIi9ZwEzZ)\n",
      " Call ID: call_VnLx5uy75voo7sGAIi9ZwEzZ\n",
      "  Args:\n",
      "    query: Tom Cruise\n",
      "=================================\u001b[1m Tool Message \u001b[0m=================================\n",
      "Name: wikipedia\n",
      "\n",
      "Page: Tom Cruise\n",
      "Summary: Thomas Cruise Mapother IV (born July 3, 1962) is an American actor and film producer. Regarded as a Hollywood icon, he has received various accolades, including an Honorary Palme d'Or and three Golden Globe Awards, in addition to nominations for four Academy Awards. As of 2025, his films have grossed over $13.3 billion worldwide, placing him among the highest-grossing actors of all time. One of Hollywood's most bankable stars, he is consistently one of the world's highest-paid actors.\n",
      "Cruise began acting in the early 1980s and made his breakthrough with leading roles in Risky Business (1983) and Top Gun (1986), the latter earning him a reputation as a sex symbol. Critical acclaim came with his roles in the dramas The Color of Money (1986), Rain Man (1988), and Born on the Fourth of July (1989). For his portrayal of Ron Kovic in the latter, he won a Golden Globe Award and received a nomination for the Academy Award for Best Actor. As a leading Hollywood star in\n"
     ]
    }
   ],
   "source": [
    "response = graph.invoke(\n",
    "    {\"messages\":HumanMessage(content=\"Tom Cruise\")}\n",
    ")\n",
    "\n",
    "for message in response[\"messages\"]:\n",
    "    message.pretty_print()"
   ]
  },
  {
   "cell_type": "code",
   "execution_count": 29,
   "id": "b29984b2",
   "metadata": {},
   "outputs": [
    {
     "name": "stdout",
     "output_type": "stream",
     "text": [
      "================================\u001b[1m Human Message \u001b[0m=================================\n",
      "\n",
      "Attention is all you need\n",
      "==================================\u001b[1m Ai Message \u001b[0m==================================\n",
      "Tool Calls:\n",
      "  arxiv (call_TPOvtBW5zJyDZfA10Hhpfsky)\n",
      " Call ID: call_TPOvtBW5zJyDZfA10Hhpfsky\n",
      "  Args:\n",
      "    query: Attention is all you need\n",
      "=================================\u001b[1m Tool Message \u001b[0m=================================\n",
      "Name: arxiv\n",
      "\n",
      "Published: 2024-07-22\n",
      "Title: Attention Is All You Need But You Don't Need All Of It For Inference of Large Language Models\n",
      "Authors: Georgy Tyukin, Gbetondji J-S Dovonon, Jean Kaddour, Pasquale Minervini\n",
      "Summary: The inference demand for LLMs has skyrocketed in recent months, and serving\n",
      "models with low latencies remains challenging due to the quadratic input length\n",
      "complexity of the attention layers. In this work, we investigate the effect of\n",
      "dropping MLP and attention layers at inference time on the performance of\n",
      "Llama-v2 models. We find that dropping dreeper attention layers only marginally\n",
      "decreases performance but leads to the best speedups alongside dropping entire\n",
      "layers. For example, removing 33\\% of attention layers in a 13B Llama2 model\n",
      "results in a 1.8\\% drop in average performance over the OpenLLM benchmark. We\n",
      "also observe that skipping layers except the latter layers reduces performances\n",
      "for more layers skipped, except for skipping the attention layers.\n",
      "\n",
      "Published: 2021-0\n"
     ]
    }
   ],
   "source": [
    "response = graph.invoke(\n",
    "    {\"messages\":HumanMessage(content=\"Attention is all you need\")}\n",
    ")\n",
    "\n",
    "for message in response[\"messages\"]:\n",
    "    message.pretty_print()"
   ]
  },
  {
   "cell_type": "code",
   "execution_count": 30,
   "id": "4ab15929",
   "metadata": {},
   "outputs": [
    {
     "name": "stdout",
     "output_type": "stream",
     "text": [
      "================================\u001b[1m Human Message \u001b[0m=================================\n",
      "\n",
      "Latest news in India\n",
      "==================================\u001b[1m Ai Message \u001b[0m==================================\n",
      "Tool Calls:\n",
      "  tavily_search (call_qYBwNpvxeK63fGaxi6cFx1CH)\n",
      " Call ID: call_qYBwNpvxeK63fGaxi6cFx1CH\n",
      "  Args:\n",
      "    query: latest news India\n",
      "    topic: news\n",
      "    time_range: week\n",
      "    search_depth: advanced\n",
      "=================================\u001b[1m Tool Message \u001b[0m=================================\n",
      "Name: tavily_search\n",
      "\n",
      "{\"query\": \"latest news India\", \"follow_up_questions\": null, \"answer\": null, \"images\": [], \"results\": [{\"url\": \"https://www.aljazeera.com/where/india/\", \"title\": \"India | Today's latest from Al Jazeera\", \"content\": \"![The tail of an Air India Boeing 787 Dreamliner is seen stuck on a building after a crash in Ahmedabad, India, on June 12, 2025 [Amit Dave/Reuters]](/wp-content/uploads/2025/06/2025-06-12T122137Z_1811025978_RC2Z0FA0JBC9_RTRMADP_3_INDIA-CRASH-1749731990.jpg?resize=270%2C180&quality=80)\\n\\n### Doom-loop politics can be defeated. Here is how\\n\\nProgressive platforms that focus on providing for the basic needs of people are seeing success across the world. [...] (FILES) This handout photograph taken and posted on the X (formerly Twitter) account of the Central Industrial Security Force (CISF) on June 12, 2025 shows the tailpiece of Air India flight AI171 after it crashed in a residential area near the airport in Ahmedabad.\\n\\n### Contrary to India’s fears, Bangladesh is not joining a China-Pakistan axis\\n\\nindia vs bangladesh\\n\\n### Tesla launches Model Y in India with elevated price tag amid high tariffs [...] People walk past newly opened India's first Tesla showroom in Mumbai, India, Tuesday, July 15, 2025. (AP Photo/Rafiq Maqbool)\\n\\n## Content Feed\\n\\n### Video: SpaceX capsule returns to earth after 20-day mission\\n\\nAstronauts from India, Poland, Hungary and the United States returned to Earth early Tuesday after the Axiom Mission 4.\\n\\n### ‘Turbaned Tornado’: World’s oldest marathon runner dies in hit-and-run\", \"score\": 0.70263255, \"raw_content\": null}, {\"url\": \"https://www.cnn.com/world/india\", \"title\": \"India news - breaking news, video and headlines and opinion - CNN\", \"content\": \"### CNN values your feedback\\n\\n# India\\n\\n## Latest news [...] Aircraft landing gear at the crash site of Air India Ltd. flight AI171 in Ahmedabad, Gujarat, India, on Thursday, June 12, 2025. An Air India Boeing 787 Dreamliner traveling from Ahmedabad to London's Gatwick airport crashed shortly after taking off, in what stands to be the most serious accident involving the US planemaker's most advanced widebody airliner. Photographer: Siddharaj Solanki/Bloomberg via Getty Images [...] The back of Air India flight 171 is pictured at the site after it crashed in a residential area near the airport in Ahmedabad on June 12, 2025. A London-bound passenger plane crashed in the Indian city of Ahmedabad on June 12 and all 242 people on board were believed killed, with the jet smashing into buildings housing doctors and their families.\", \"score\": 0.6519982, \"raw_content\": null}, {\"url\": \"https://www.reuters.com/world/india/\", \"title\": \"India News | Today's Top Stories - Reuters\", \"content\": \"# India\\n\\nU.S. President Trump holds a joint press conference with Indian Prime Minister Modi at the White House in Washington D.C.\\n\\n### Trump's renewed interest in Pakistan has India recalibrating China ties\\n\\nDonald Trump's lunch meeting with Pakistan's military chief and other tensions in the U.S.-India relationship, after decades of flourishing ties, have cast a shadow in trade negotiations.\", \"score\": 0.6180666, \"raw_content\": null}, {\"url\": \"https://timesofindia.indiatimes.com/india/latest-india-world-news-live-updates-today-breaking-news-july-17-2025/liveblog/122589354.cms\", \"title\": \"Breaking News Live Updates: India slams Nato sanction warning on ...\", \"content\": \"## TOI\\n\\n# Breaking News Live Updates: India slams Nato sanction warning on trade with Russia; flags 'double standards'\\n\\nIndia News Live: A meeting of the INDIA bloc parties will be held on July 19, says Congress MP KC Venugopal\\n\\nIndia News Live: India hits out at Nato chief's sanction warning over trade with Russia; warns against 'double standards' [...] India News Live Updates: Union cabinet approves 'PM Dhan-Dhaanya Krishi Yojana' for agricultural transformation [...] India News Live Updates: 3.3 magnitude tremors felt in Rohtak as another earthquake hits Haryana\", \"score\": 0.6100127, \"raw_content\": null}, {\"url\": \"https://www.thehindu.com/news/top-news-of-the-day-july-19-2025-trump-claims-five-jets-shot-down-in-india-pakistan-conflict-india-efta-trade-pact-to-be-implemented-from-october/article69831281.ece\", \"title\": \"Top news of the day: July 19, 2025 - The Hindu\", \"content\": \"conflict and faces disintegration ahead of Parliament’s Monsoon Session beginning Monday (July 21, 2025). Mr. Gandhi has come out to protect Mr. Vadra’s properties collected through corruption, he alleged, noting that the Congress leader is himself on bail in a corruption case. [...] #### India, U.S. teams conclude fifth round of talks for proposed trade pact: Official\\n\\nIndia and the U.S. teams have concluded the fifth round of talks for the proposed bilateral trade agreement (BTA) in Washington on July 17, an official said. The negotiations were held for four days (July 14-17) in Washington. “The Indian team is coming back,” the official said. India’s chief negotiator and special secretary in the department of commerce Rajesh Agrawal leads the team for negotiations. [...] The BJP on Saturday (July 19, 2025) accused Rahul Gandhi of misusing his constitutional position as the Leader of Opposition in Lok Sabha to “protect” his family’s crimes.  The party made the allegations as part of its continued targeting of the Congress leader’s defence of his brother-in-law, Robert Vadra, who has been charged by the ED with money laundering.  Speaking to reporters, BJP national spokesperson Sudhanshu Trivedi claimed that the Opposition INDIA bloc is beset with internal\", \"score\": 0.56661874, \"raw_content\": null}], \"response_time\": 4.09}\n"
     ]
    }
   ],
   "source": [
    "response = graph.invoke(\n",
    "    {\"messages\":HumanMessage(content=\"Latest news in India\")}\n",
    ")\n",
    "\n",
    "for message in response[\"messages\"]:\n",
    "    message.pretty_print()"
   ]
  },
  {
   "cell_type": "code",
   "execution_count": null,
   "id": "c078599a",
   "metadata": {},
   "outputs": [],
   "source": []
  }
 ],
 "metadata": {
  "kernelspec": {
   "display_name": "agentic",
   "language": "python",
   "name": "python3"
  },
  "language_info": {
   "codemirror_mode": {
    "name": "ipython",
    "version": 3
   },
   "file_extension": ".py",
   "mimetype": "text/x-python",
   "name": "python",
   "nbconvert_exporter": "python",
   "pygments_lexer": "ipython3",
   "version": "3.12.9"
  }
 },
 "nbformat": 4,
 "nbformat_minor": 5
}
